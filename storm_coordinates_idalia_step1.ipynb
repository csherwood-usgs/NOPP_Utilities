{
 "cells": [
  {
   "cell_type": "code",
   "execution_count": 1,
   "id": "e7df11fd-aee9-4a57-ba89-e3ade0eaf613",
   "metadata": {
    "tags": []
   },
   "outputs": [],
   "source": [
    "# demo storm coordinates\n",
    "import pandas as pd\n",
    "import numpy as np\n",
    "import geojson\n",
    "import matplotlib.pyplot as plt\n",
    "%run -i storm_coords.py"
   ]
  },
  {
   "cell_type": "markdown",
   "id": "8d30b633-4ba8-4729-8b8b-5c49ce2dac02",
   "metadata": {},
   "source": [
    "#### Test dist_bearing function   \n",
    "Now moved to `test_storm_coords.py`"
   ]
  },
  {
   "cell_type": "markdown",
   "id": "b3631470-f5c4-4fda-b819-24b54af90bb3",
   "metadata": {},
   "source": [
    "#### Explore the geojson file a bit\n",
    "Per Zach Cobell, these track data can be retrieved from using the METGET package, as follows:  \n",
    "This information is based on the ATCF files posted by NHC, which is converted to JSON.   \n",
    "We can also get you the raw ATCF as well. The metget software is pip installable via `pip install metget`.  \n",
    "You only need to let the software know where the endpoint is by running:  \n",
    "`export METGET_ENDPOINT=https://api.metget.org`    \n",
    "`export METGET_API_KEY=0`  \n",
    "(There is no api key necessary for this function, so setting it to zero is fine. If you want the native ATCF data, we can get you an API key)  \n",
    "\n",
    "Then:\n",
    "`metget track --storm 10 --year 2023 --type besttrack > idalia_track.json`"
   ]
  },
  {
   "cell_type": "code",
   "execution_count": 2,
   "id": "4cfed371-f9f1-43de-b70b-14f474b70ca9",
   "metadata": {
    "tags": []
   },
   "outputs": [
    {
     "name": "stdout",
     "output_type": "stream",
     "text": [
      "{\"geometry\": {\"coordinates\": [-84.0, 16.0], \"type\": \"Point\"}, \"properties\": {\"max_wind_speed_mph\": 17.26, \"minimum_sea_level_pressure_mb\": 0.0, \"radius_to_max_wind_nmi\": 0.0, \"storm_class\": \"DB\", \"time_utc\": \"2023-08-24T18:00:00\"}, \"type\": \"Feature\"}\n",
      "{\"coordinates\": [-84.0, 16.0], \"type\": \"Point\"}\n",
      "-84.0\n",
      "{'time_utc': '2023-08-24T18:00:00', 'max_wind_speed_mph': 17.26, 'minimum_sea_level_pressure_mb': 0.0, 'radius_to_max_wind_nmi': 0.0, 'storm_class': 'DB'}\n",
      "2023-08-24T18:00:00\n",
      "65\n"
     ]
    }
   ],
   "source": [
    "with open('/vortexfs1/home/csherwood/proj/NOPP_Idalia/idalia_track.json') as f:\n",
    "    gj = geojson.load(f)\n",
    "features = gj['features']\n",
    "print(features[0])\n",
    "print(features[0]['geometry'])\n",
    "print(features[0]['geometry']['coordinates'][0])\n",
    "print(features[0]['properties'])\n",
    "print(features[0]['properties']['time_utc'])\n",
    "\n",
    "print(len(features))"
   ]
  },
  {
   "cell_type": "markdown",
   "id": "bf9d7997-2d4f-4114-8788-d4ac49352e47",
   "metadata": {},
   "source": [
    "#### Convert geojson into lists, convert to metric"
   ]
  },
  {
   "cell_type": "code",
   "execution_count": 3,
   "id": "cdb1e38d-6789-4672-917c-9ae361446c0a",
   "metadata": {
    "tags": []
   },
   "outputs": [],
   "source": [
    "mph2ms = 0.44704\n",
    "nmi2km = 1.852\n",
    "time_utc = []\n",
    "lat = []\n",
    "lon = []\n",
    "max_wind_speed_ms = []\n",
    "radius_to_max_wind_km = []\n",
    "for feature in features:\n",
    "    lon.append( feature['geometry']['coordinates'][0])\n",
    "    lat.append( feature['geometry']['coordinates'][1])\n",
    "    time_utc.append( feature['properties']['time_utc'])\n",
    "    max_wind_speed_ms.append( feature['properties']['max_wind_speed_mph']*mph2ms )\n",
    "    radius_to_max_wind_km.append( feature['properties']['radius_to_max_wind_nmi']*nmi2km )\n",
    "\n",
    "# convert time stamps to datetime64\n",
    "dt = pd.to_datetime(time_utc)"
   ]
  },
  {
   "cell_type": "markdown",
   "id": "3e4ca371-b18c-424d-a51d-8944b6f2d359",
   "metadata": {},
   "source": [
    "#### Convert to a dataframe and drop duplicates"
   ]
  },
  {
   "cell_type": "code",
   "execution_count": 4,
   "id": "a7516b36-20e0-4a6c-9e16-43f70fa24a13",
   "metadata": {
    "tags": []
   },
   "outputs": [],
   "source": [
    "# dfo = pd.DataFrame( {'time_utc': time_utc}, index = dt)\n",
    "dfo = pd.DataFrame({'time_utc': time_utc,'lat': lat, 'lon': lon,\n",
    "                    'max_wind_speed_ms': max_wind_speed_ms, \n",
    "                    'radius_to_max_wind_km': radius_to_max_wind_km}).drop_duplicates()"
   ]
  },
  {
   "cell_type": "markdown",
   "id": "dc00b713-3752-4f65-b12f-115671b41df7",
   "metadata": {
    "tags": []
   },
   "source": [
    "#### Compute distance and bearing between unique points, save dataframe to .csv"
   ]
  },
  {
   "cell_type": "code",
   "execution_count": 5,
   "id": "5a68a836-c4c3-4b5c-ac05-9eecac2ea4e7",
   "metadata": {
    "tags": []
   },
   "outputs": [],
   "source": [
    "lon = np.array( dfo['lon'].values)\n",
    "lat = np.array( dfo['lat'].values)\n",
    "\n",
    "dist = np.ones_like( lon )\n",
    "brg = np.ones_like( dist )\n",
    "for i in range(len( lon )-1):\n",
    "    dist[i],brg[i] = dist_bearing(lon[i], lat[i], lon[i+1], lat[i+1])\n",
    "\n",
    "# make all the lists the same length\n",
    "dist[i+1]=dist[i]\n",
    "brg[i+1]=brg[i]\n",
    "\n",
    "# add to the dataframe\n",
    "dfo['distance_to_next_km']=dist\n",
    "dfo['bearing_to_next_geo']=brg\n",
    "dfo.to_csv('idalia_track_dist_brg.csv', index = False)"
   ]
  }
 ],
 "metadata": {
  "kernelspec": {
   "display_name": "Python 3 (ipykernel)",
   "language": "python",
   "name": "python3"
  },
  "language_info": {
   "codemirror_mode": {
    "name": "ipython",
    "version": 3
   },
   "file_extension": ".py",
   "mimetype": "text/x-python",
   "name": "python",
   "nbconvert_exporter": "python",
   "pygments_lexer": "ipython3",
   "version": "3.9.16"
  }
 },
 "nbformat": 4,
 "nbformat_minor": 5
}
