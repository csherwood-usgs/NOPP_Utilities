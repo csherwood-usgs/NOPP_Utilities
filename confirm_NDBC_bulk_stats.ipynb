{
 "cells": [
  {
   "cell_type": "code",
   "execution_count": 1,
   "id": "5f40feea",
   "metadata": {
    "tags": []
   },
   "outputs": [],
   "source": [
    "import os\n",
    "import pickle\n",
    "from datetime import datetime, timezone\n",
    "from scipy import stats\n",
    "import matplotlib.pyplot as plt\n",
    "import pandas as pd\n",
    "\n",
    "import matplotlib.colors\n",
    "import numpy as np\n",
    "\n",
    "import xarray as xr\n",
    "import xroms\n",
    "import matplotlib.pyplot as plt\n",
    "from wavespectra import read_ww3, read_swan, read_ndbc, read_netcdf\n",
    "#from roguewave.wavespectra.estimators.estimate import estimate_directional_distribution\n",
    "#%run -i roguewave_estimators.py\n",
    "%run -i wave_stats.py"
   ]
  },
  {
   "cell_type": "code",
   "execution_count": 2,
   "id": "19c4fc9e-157e-41ba-81c6-650948664449",
   "metadata": {
    "tags": []
   },
   "outputs": [
    {
     "ename": "OSError",
     "evalue": "[Errno -90] NetCDF: file not found: 'http://icoast.rc.ufl.edu/thredds/dodsC/ian/L1_BEST_AVAILABLE/ocean_his.nc'",
     "output_type": "error",
     "traceback": [
      "\u001b[0;31m---------------------------------------------------------------------------\u001b[0m",
      "\u001b[0;31mKeyError\u001b[0m                                  Traceback (most recent call last)",
      "File \u001b[0;32m~/mambaforge/envs/NOPP/lib/python3.9/site-packages/xarray/backends/file_manager.py:209\u001b[0m, in \u001b[0;36mCachingFileManager._acquire_with_cache_info\u001b[0;34m(self, needs_lock)\u001b[0m\n\u001b[1;32m    208\u001b[0m \u001b[38;5;28;01mtry\u001b[39;00m:\n\u001b[0;32m--> 209\u001b[0m     file \u001b[38;5;241m=\u001b[39m \u001b[38;5;28;43mself\u001b[39;49m\u001b[38;5;241;43m.\u001b[39;49m\u001b[43m_cache\u001b[49m\u001b[43m[\u001b[49m\u001b[38;5;28;43mself\u001b[39;49m\u001b[38;5;241;43m.\u001b[39;49m\u001b[43m_key\u001b[49m\u001b[43m]\u001b[49m\n\u001b[1;32m    210\u001b[0m \u001b[38;5;28;01mexcept\u001b[39;00m \u001b[38;5;167;01mKeyError\u001b[39;00m:\n",
      "File \u001b[0;32m~/mambaforge/envs/NOPP/lib/python3.9/site-packages/xarray/backends/lru_cache.py:55\u001b[0m, in \u001b[0;36mLRUCache.__getitem__\u001b[0;34m(self, key)\u001b[0m\n\u001b[1;32m     54\u001b[0m \u001b[38;5;28;01mwith\u001b[39;00m \u001b[38;5;28mself\u001b[39m\u001b[38;5;241m.\u001b[39m_lock:\n\u001b[0;32m---> 55\u001b[0m     value \u001b[38;5;241m=\u001b[39m \u001b[38;5;28;43mself\u001b[39;49m\u001b[38;5;241;43m.\u001b[39;49m\u001b[43m_cache\u001b[49m\u001b[43m[\u001b[49m\u001b[43mkey\u001b[49m\u001b[43m]\u001b[49m\n\u001b[1;32m     56\u001b[0m     \u001b[38;5;28mself\u001b[39m\u001b[38;5;241m.\u001b[39m_cache\u001b[38;5;241m.\u001b[39mmove_to_end(key)\n",
      "\u001b[0;31mKeyError\u001b[0m: [<class 'netCDF4._netCDF4.Dataset'>, ('http://icoast.rc.ufl.edu/thredds/dodsC/ian/L1_BEST_AVAILABLE/ocean_his.nc',), 'r', (('clobber', True), ('diskless', False), ('format', 'NETCDF4'), ('persist', False)), '648362bc-7c19-4663-aa79-e7ac7926213e']",
      "\nDuring handling of the above exception, another exception occurred:\n",
      "\u001b[0;31mOSError\u001b[0m                                   Traceback (most recent call last)",
      "Cell \u001b[0;32mIn[2], line 4\u001b[0m\n\u001b[1;32m      1\u001b[0m roms_file \u001b[38;5;241m=\u001b[39m \u001b[38;5;124m'\u001b[39m\u001b[38;5;124mhttp://icoast.rc.ufl.edu/thredds/dodsC/ian/L1_BEST_AVAILABLE/ocean_his.nc\u001b[39m\u001b[38;5;124m'\u001b[39m\n\u001b[1;32m      2\u001b[0m run_name \u001b[38;5;241m=\u001b[39m \u001b[38;5;124m'\u001b[39m\u001b[38;5;124mL1_20230123\u001b[39m\u001b[38;5;124m'\u001b[39m\n\u001b[0;32m----> 4\u001b[0m ds_mod \u001b[38;5;241m=\u001b[39m \u001b[43mxroms\u001b[49m\u001b[38;5;241;43m.\u001b[39;49m\u001b[43mopen_netcdf\u001b[49m\u001b[43m(\u001b[49m\u001b[43mroms_file\u001b[49m\u001b[43m)\u001b[49m\n\u001b[1;32m      5\u001b[0m time_ini_model \u001b[38;5;241m=\u001b[39m ds_mod\u001b[38;5;241m.\u001b[39mocean_time\u001b[38;5;241m.\u001b[39mvalues[\u001b[38;5;241m0\u001b[39m]\n\u001b[1;32m      6\u001b[0m time_end_model \u001b[38;5;241m=\u001b[39m ds_mod\u001b[38;5;241m.\u001b[39mocean_time\u001b[38;5;241m.\u001b[39mvalues[\u001b[38;5;241m-\u001b[39m\u001b[38;5;241m1\u001b[39m]\n",
      "File \u001b[0;32m~/src/xroms/xroms/xroms.py:748\u001b[0m, in \u001b[0;36mopen_netcdf\u001b[0;34m(file, chunks, xrargs, Vtransform, add_verts, proj)\u001b[0m\n\u001b[1;32m    742\u001b[0m words \u001b[38;5;241m=\u001b[39m (\n\u001b[1;32m    743\u001b[0m     \u001b[38;5;124m\"\u001b[39m\u001b[38;5;124mModel location should be given as string or `pathlib.Path`.\u001b[39m\u001b[38;5;124m\"\u001b[39m\n\u001b[1;32m    744\u001b[0m     \u001b[38;5;124m\"\u001b[39m\u001b[38;5;124mIf you have list of multiple locations, use `open_mfdataset`.\u001b[39m\u001b[38;5;124m\"\u001b[39m\n\u001b[1;32m    745\u001b[0m )\n\u001b[1;32m    746\u001b[0m \u001b[38;5;28;01massert\u001b[39;00m \u001b[38;5;28misinstance\u001b[39m(file, (\u001b[38;5;28mstr\u001b[39m, pathlib\u001b[38;5;241m.\u001b[39mPath)), words\n\u001b[0;32m--> 748\u001b[0m ds \u001b[38;5;241m=\u001b[39m \u001b[43mxr\u001b[49m\u001b[38;5;241;43m.\u001b[39;49m\u001b[43mopen_dataset\u001b[49m\u001b[43m(\u001b[49m\u001b[43mfile\u001b[49m\u001b[43m,\u001b[49m\u001b[43m \u001b[49m\u001b[43mchunks\u001b[49m\u001b[38;5;241;43m=\u001b[39;49m\u001b[43mchunks\u001b[49m\u001b[43m,\u001b[49m\u001b[43m \u001b[49m\u001b[38;5;241;43m*\u001b[39;49m\u001b[38;5;241;43m*\u001b[39;49m\u001b[43mxrargs\u001b[49m\u001b[43m)\u001b[49m\n\u001b[1;32m    750\u001b[0m \u001b[38;5;66;03m# modify Dataset with useful ROMS z coords and make xgcm grid operations usable.\u001b[39;00m\n\u001b[1;32m    751\u001b[0m ds, grid \u001b[38;5;241m=\u001b[39m roms_dataset(ds, Vtransform\u001b[38;5;241m=\u001b[39mVtransform, add_verts\u001b[38;5;241m=\u001b[39madd_verts, proj\u001b[38;5;241m=\u001b[39mproj)\n",
      "File \u001b[0;32m~/mambaforge/envs/NOPP/lib/python3.9/site-packages/xarray/backends/api.py:540\u001b[0m, in \u001b[0;36mopen_dataset\u001b[0;34m(filename_or_obj, engine, chunks, cache, decode_cf, mask_and_scale, decode_times, decode_timedelta, use_cftime, concat_characters, decode_coords, drop_variables, inline_array, backend_kwargs, **kwargs)\u001b[0m\n\u001b[1;32m    528\u001b[0m decoders \u001b[38;5;241m=\u001b[39m _resolve_decoders_kwargs(\n\u001b[1;32m    529\u001b[0m     decode_cf,\n\u001b[1;32m    530\u001b[0m     open_backend_dataset_parameters\u001b[38;5;241m=\u001b[39mbackend\u001b[38;5;241m.\u001b[39mopen_dataset_parameters,\n\u001b[0;32m   (...)\u001b[0m\n\u001b[1;32m    536\u001b[0m     decode_coords\u001b[38;5;241m=\u001b[39mdecode_coords,\n\u001b[1;32m    537\u001b[0m )\n\u001b[1;32m    539\u001b[0m overwrite_encoded_chunks \u001b[38;5;241m=\u001b[39m kwargs\u001b[38;5;241m.\u001b[39mpop(\u001b[38;5;124m\"\u001b[39m\u001b[38;5;124moverwrite_encoded_chunks\u001b[39m\u001b[38;5;124m\"\u001b[39m, \u001b[38;5;28;01mNone\u001b[39;00m)\n\u001b[0;32m--> 540\u001b[0m backend_ds \u001b[38;5;241m=\u001b[39m \u001b[43mbackend\u001b[49m\u001b[38;5;241;43m.\u001b[39;49m\u001b[43mopen_dataset\u001b[49m\u001b[43m(\u001b[49m\n\u001b[1;32m    541\u001b[0m \u001b[43m    \u001b[49m\u001b[43mfilename_or_obj\u001b[49m\u001b[43m,\u001b[49m\n\u001b[1;32m    542\u001b[0m \u001b[43m    \u001b[49m\u001b[43mdrop_variables\u001b[49m\u001b[38;5;241;43m=\u001b[39;49m\u001b[43mdrop_variables\u001b[49m\u001b[43m,\u001b[49m\n\u001b[1;32m    543\u001b[0m \u001b[43m    \u001b[49m\u001b[38;5;241;43m*\u001b[39;49m\u001b[38;5;241;43m*\u001b[39;49m\u001b[43mdecoders\u001b[49m\u001b[43m,\u001b[49m\n\u001b[1;32m    544\u001b[0m \u001b[43m    \u001b[49m\u001b[38;5;241;43m*\u001b[39;49m\u001b[38;5;241;43m*\u001b[39;49m\u001b[43mkwargs\u001b[49m\u001b[43m,\u001b[49m\n\u001b[1;32m    545\u001b[0m \u001b[43m\u001b[49m\u001b[43m)\u001b[49m\n\u001b[1;32m    546\u001b[0m ds \u001b[38;5;241m=\u001b[39m _dataset_from_backend_dataset(\n\u001b[1;32m    547\u001b[0m     backend_ds,\n\u001b[1;32m    548\u001b[0m     filename_or_obj,\n\u001b[0;32m   (...)\u001b[0m\n\u001b[1;32m    556\u001b[0m     \u001b[38;5;241m*\u001b[39m\u001b[38;5;241m*\u001b[39mkwargs,\n\u001b[1;32m    557\u001b[0m )\n\u001b[1;32m    558\u001b[0m \u001b[38;5;28;01mreturn\u001b[39;00m ds\n",
      "File \u001b[0;32m~/mambaforge/envs/NOPP/lib/python3.9/site-packages/xarray/backends/netCDF4_.py:572\u001b[0m, in \u001b[0;36mNetCDF4BackendEntrypoint.open_dataset\u001b[0;34m(self, filename_or_obj, mask_and_scale, decode_times, concat_characters, decode_coords, drop_variables, use_cftime, decode_timedelta, group, mode, format, clobber, diskless, persist, lock, autoclose)\u001b[0m\n\u001b[1;32m    551\u001b[0m \u001b[38;5;28;01mdef\u001b[39;00m \u001b[38;5;21mopen_dataset\u001b[39m(\n\u001b[1;32m    552\u001b[0m     \u001b[38;5;28mself\u001b[39m,\n\u001b[1;32m    553\u001b[0m     filename_or_obj,\n\u001b[0;32m   (...)\u001b[0m\n\u001b[1;32m    568\u001b[0m     autoclose\u001b[38;5;241m=\u001b[39m\u001b[38;5;28;01mFalse\u001b[39;00m,\n\u001b[1;32m    569\u001b[0m ):\n\u001b[1;32m    571\u001b[0m     filename_or_obj \u001b[38;5;241m=\u001b[39m _normalize_path(filename_or_obj)\n\u001b[0;32m--> 572\u001b[0m     store \u001b[38;5;241m=\u001b[39m \u001b[43mNetCDF4DataStore\u001b[49m\u001b[38;5;241;43m.\u001b[39;49m\u001b[43mopen\u001b[49m\u001b[43m(\u001b[49m\n\u001b[1;32m    573\u001b[0m \u001b[43m        \u001b[49m\u001b[43mfilename_or_obj\u001b[49m\u001b[43m,\u001b[49m\n\u001b[1;32m    574\u001b[0m \u001b[43m        \u001b[49m\u001b[43mmode\u001b[49m\u001b[38;5;241;43m=\u001b[39;49m\u001b[43mmode\u001b[49m\u001b[43m,\u001b[49m\n\u001b[1;32m    575\u001b[0m \u001b[43m        \u001b[49m\u001b[38;5;28;43mformat\u001b[39;49m\u001b[38;5;241;43m=\u001b[39;49m\u001b[38;5;28;43mformat\u001b[39;49m\u001b[43m,\u001b[49m\n\u001b[1;32m    576\u001b[0m \u001b[43m        \u001b[49m\u001b[43mgroup\u001b[49m\u001b[38;5;241;43m=\u001b[39;49m\u001b[43mgroup\u001b[49m\u001b[43m,\u001b[49m\n\u001b[1;32m    577\u001b[0m \u001b[43m        \u001b[49m\u001b[43mclobber\u001b[49m\u001b[38;5;241;43m=\u001b[39;49m\u001b[43mclobber\u001b[49m\u001b[43m,\u001b[49m\n\u001b[1;32m    578\u001b[0m \u001b[43m        \u001b[49m\u001b[43mdiskless\u001b[49m\u001b[38;5;241;43m=\u001b[39;49m\u001b[43mdiskless\u001b[49m\u001b[43m,\u001b[49m\n\u001b[1;32m    579\u001b[0m \u001b[43m        \u001b[49m\u001b[43mpersist\u001b[49m\u001b[38;5;241;43m=\u001b[39;49m\u001b[43mpersist\u001b[49m\u001b[43m,\u001b[49m\n\u001b[1;32m    580\u001b[0m \u001b[43m        \u001b[49m\u001b[43mlock\u001b[49m\u001b[38;5;241;43m=\u001b[39;49m\u001b[43mlock\u001b[49m\u001b[43m,\u001b[49m\n\u001b[1;32m    581\u001b[0m \u001b[43m        \u001b[49m\u001b[43mautoclose\u001b[49m\u001b[38;5;241;43m=\u001b[39;49m\u001b[43mautoclose\u001b[49m\u001b[43m,\u001b[49m\n\u001b[1;32m    582\u001b[0m \u001b[43m    \u001b[49m\u001b[43m)\u001b[49m\n\u001b[1;32m    584\u001b[0m     store_entrypoint \u001b[38;5;241m=\u001b[39m StoreBackendEntrypoint()\n\u001b[1;32m    585\u001b[0m     \u001b[38;5;28;01mwith\u001b[39;00m close_on_error(store):\n",
      "File \u001b[0;32m~/mambaforge/envs/NOPP/lib/python3.9/site-packages/xarray/backends/netCDF4_.py:376\u001b[0m, in \u001b[0;36mNetCDF4DataStore.open\u001b[0;34m(cls, filename, mode, format, group, clobber, diskless, persist, lock, lock_maker, autoclose)\u001b[0m\n\u001b[1;32m    370\u001b[0m kwargs \u001b[38;5;241m=\u001b[39m \u001b[38;5;28mdict\u001b[39m(\n\u001b[1;32m    371\u001b[0m     clobber\u001b[38;5;241m=\u001b[39mclobber, diskless\u001b[38;5;241m=\u001b[39mdiskless, persist\u001b[38;5;241m=\u001b[39mpersist, \u001b[38;5;28mformat\u001b[39m\u001b[38;5;241m=\u001b[39m\u001b[38;5;28mformat\u001b[39m\n\u001b[1;32m    372\u001b[0m )\n\u001b[1;32m    373\u001b[0m manager \u001b[38;5;241m=\u001b[39m CachingFileManager(\n\u001b[1;32m    374\u001b[0m     netCDF4\u001b[38;5;241m.\u001b[39mDataset, filename, mode\u001b[38;5;241m=\u001b[39mmode, kwargs\u001b[38;5;241m=\u001b[39mkwargs\n\u001b[1;32m    375\u001b[0m )\n\u001b[0;32m--> 376\u001b[0m \u001b[38;5;28;01mreturn\u001b[39;00m \u001b[38;5;28;43mcls\u001b[39;49m\u001b[43m(\u001b[49m\u001b[43mmanager\u001b[49m\u001b[43m,\u001b[49m\u001b[43m \u001b[49m\u001b[43mgroup\u001b[49m\u001b[38;5;241;43m=\u001b[39;49m\u001b[43mgroup\u001b[49m\u001b[43m,\u001b[49m\u001b[43m \u001b[49m\u001b[43mmode\u001b[49m\u001b[38;5;241;43m=\u001b[39;49m\u001b[43mmode\u001b[49m\u001b[43m,\u001b[49m\u001b[43m \u001b[49m\u001b[43mlock\u001b[49m\u001b[38;5;241;43m=\u001b[39;49m\u001b[43mlock\u001b[49m\u001b[43m,\u001b[49m\u001b[43m \u001b[49m\u001b[43mautoclose\u001b[49m\u001b[38;5;241;43m=\u001b[39;49m\u001b[43mautoclose\u001b[49m\u001b[43m)\u001b[49m\n",
      "File \u001b[0;32m~/mambaforge/envs/NOPP/lib/python3.9/site-packages/xarray/backends/netCDF4_.py:323\u001b[0m, in \u001b[0;36mNetCDF4DataStore.__init__\u001b[0;34m(self, manager, group, mode, lock, autoclose)\u001b[0m\n\u001b[1;32m    321\u001b[0m \u001b[38;5;28mself\u001b[39m\u001b[38;5;241m.\u001b[39m_group \u001b[38;5;241m=\u001b[39m group\n\u001b[1;32m    322\u001b[0m \u001b[38;5;28mself\u001b[39m\u001b[38;5;241m.\u001b[39m_mode \u001b[38;5;241m=\u001b[39m mode\n\u001b[0;32m--> 323\u001b[0m \u001b[38;5;28mself\u001b[39m\u001b[38;5;241m.\u001b[39mformat \u001b[38;5;241m=\u001b[39m \u001b[38;5;28;43mself\u001b[39;49m\u001b[38;5;241;43m.\u001b[39;49m\u001b[43mds\u001b[49m\u001b[38;5;241m.\u001b[39mdata_model\n\u001b[1;32m    324\u001b[0m \u001b[38;5;28mself\u001b[39m\u001b[38;5;241m.\u001b[39m_filename \u001b[38;5;241m=\u001b[39m \u001b[38;5;28mself\u001b[39m\u001b[38;5;241m.\u001b[39mds\u001b[38;5;241m.\u001b[39mfilepath()\n\u001b[1;32m    325\u001b[0m \u001b[38;5;28mself\u001b[39m\u001b[38;5;241m.\u001b[39mis_remote \u001b[38;5;241m=\u001b[39m is_remote_uri(\u001b[38;5;28mself\u001b[39m\u001b[38;5;241m.\u001b[39m_filename)\n",
      "File \u001b[0;32m~/mambaforge/envs/NOPP/lib/python3.9/site-packages/xarray/backends/netCDF4_.py:385\u001b[0m, in \u001b[0;36mNetCDF4DataStore.ds\u001b[0;34m(self)\u001b[0m\n\u001b[1;32m    383\u001b[0m \u001b[38;5;129m@property\u001b[39m\n\u001b[1;32m    384\u001b[0m \u001b[38;5;28;01mdef\u001b[39;00m \u001b[38;5;21mds\u001b[39m(\u001b[38;5;28mself\u001b[39m):\n\u001b[0;32m--> 385\u001b[0m     \u001b[38;5;28;01mreturn\u001b[39;00m \u001b[38;5;28;43mself\u001b[39;49m\u001b[38;5;241;43m.\u001b[39;49m\u001b[43m_acquire\u001b[49m\u001b[43m(\u001b[49m\u001b[43m)\u001b[49m\n",
      "File \u001b[0;32m~/mambaforge/envs/NOPP/lib/python3.9/site-packages/xarray/backends/netCDF4_.py:379\u001b[0m, in \u001b[0;36mNetCDF4DataStore._acquire\u001b[0;34m(self, needs_lock)\u001b[0m\n\u001b[1;32m    378\u001b[0m \u001b[38;5;28;01mdef\u001b[39;00m \u001b[38;5;21m_acquire\u001b[39m(\u001b[38;5;28mself\u001b[39m, needs_lock\u001b[38;5;241m=\u001b[39m\u001b[38;5;28;01mTrue\u001b[39;00m):\n\u001b[0;32m--> 379\u001b[0m     \u001b[38;5;28;01mwith\u001b[39;00m \u001b[38;5;28mself\u001b[39m\u001b[38;5;241m.\u001b[39m_manager\u001b[38;5;241m.\u001b[39macquire_context(needs_lock) \u001b[38;5;28;01mas\u001b[39;00m root:\n\u001b[1;32m    380\u001b[0m         ds \u001b[38;5;241m=\u001b[39m _nc4_require_group(root, \u001b[38;5;28mself\u001b[39m\u001b[38;5;241m.\u001b[39m_group, \u001b[38;5;28mself\u001b[39m\u001b[38;5;241m.\u001b[39m_mode)\n\u001b[1;32m    381\u001b[0m     \u001b[38;5;28;01mreturn\u001b[39;00m ds\n",
      "File \u001b[0;32m~/mambaforge/envs/NOPP/lib/python3.9/contextlib.py:119\u001b[0m, in \u001b[0;36m_GeneratorContextManager.__enter__\u001b[0;34m(self)\u001b[0m\n\u001b[1;32m    117\u001b[0m \u001b[38;5;28;01mdel\u001b[39;00m \u001b[38;5;28mself\u001b[39m\u001b[38;5;241m.\u001b[39margs, \u001b[38;5;28mself\u001b[39m\u001b[38;5;241m.\u001b[39mkwds, \u001b[38;5;28mself\u001b[39m\u001b[38;5;241m.\u001b[39mfunc\n\u001b[1;32m    118\u001b[0m \u001b[38;5;28;01mtry\u001b[39;00m:\n\u001b[0;32m--> 119\u001b[0m     \u001b[38;5;28;01mreturn\u001b[39;00m \u001b[38;5;28;43mnext\u001b[39;49m\u001b[43m(\u001b[49m\u001b[38;5;28;43mself\u001b[39;49m\u001b[38;5;241;43m.\u001b[39;49m\u001b[43mgen\u001b[49m\u001b[43m)\u001b[49m\n\u001b[1;32m    120\u001b[0m \u001b[38;5;28;01mexcept\u001b[39;00m \u001b[38;5;167;01mStopIteration\u001b[39;00m:\n\u001b[1;32m    121\u001b[0m     \u001b[38;5;28;01mraise\u001b[39;00m \u001b[38;5;167;01mRuntimeError\u001b[39;00m(\u001b[38;5;124m\"\u001b[39m\u001b[38;5;124mgenerator didn\u001b[39m\u001b[38;5;124m'\u001b[39m\u001b[38;5;124mt yield\u001b[39m\u001b[38;5;124m\"\u001b[39m) \u001b[38;5;28;01mfrom\u001b[39;00m \u001b[38;5;28mNone\u001b[39m\n",
      "File \u001b[0;32m~/mambaforge/envs/NOPP/lib/python3.9/site-packages/xarray/backends/file_manager.py:197\u001b[0m, in \u001b[0;36mCachingFileManager.acquire_context\u001b[0;34m(self, needs_lock)\u001b[0m\n\u001b[1;32m    194\u001b[0m \u001b[38;5;129m@contextlib\u001b[39m\u001b[38;5;241m.\u001b[39mcontextmanager\n\u001b[1;32m    195\u001b[0m \u001b[38;5;28;01mdef\u001b[39;00m \u001b[38;5;21macquire_context\u001b[39m(\u001b[38;5;28mself\u001b[39m, needs_lock\u001b[38;5;241m=\u001b[39m\u001b[38;5;28;01mTrue\u001b[39;00m):\n\u001b[1;32m    196\u001b[0m \u001b[38;5;250m    \u001b[39m\u001b[38;5;124;03m\"\"\"Context manager for acquiring a file.\"\"\"\u001b[39;00m\n\u001b[0;32m--> 197\u001b[0m     file, cached \u001b[38;5;241m=\u001b[39m \u001b[38;5;28;43mself\u001b[39;49m\u001b[38;5;241;43m.\u001b[39;49m\u001b[43m_acquire_with_cache_info\u001b[49m\u001b[43m(\u001b[49m\u001b[43mneeds_lock\u001b[49m\u001b[43m)\u001b[49m\n\u001b[1;32m    198\u001b[0m     \u001b[38;5;28;01mtry\u001b[39;00m:\n\u001b[1;32m    199\u001b[0m         \u001b[38;5;28;01myield\u001b[39;00m file\n",
      "File \u001b[0;32m~/mambaforge/envs/NOPP/lib/python3.9/site-packages/xarray/backends/file_manager.py:215\u001b[0m, in \u001b[0;36mCachingFileManager._acquire_with_cache_info\u001b[0;34m(self, needs_lock)\u001b[0m\n\u001b[1;32m    213\u001b[0m     kwargs \u001b[38;5;241m=\u001b[39m kwargs\u001b[38;5;241m.\u001b[39mcopy()\n\u001b[1;32m    214\u001b[0m     kwargs[\u001b[38;5;124m\"\u001b[39m\u001b[38;5;124mmode\u001b[39m\u001b[38;5;124m\"\u001b[39m] \u001b[38;5;241m=\u001b[39m \u001b[38;5;28mself\u001b[39m\u001b[38;5;241m.\u001b[39m_mode\n\u001b[0;32m--> 215\u001b[0m file \u001b[38;5;241m=\u001b[39m \u001b[38;5;28;43mself\u001b[39;49m\u001b[38;5;241;43m.\u001b[39;49m\u001b[43m_opener\u001b[49m\u001b[43m(\u001b[49m\u001b[38;5;241;43m*\u001b[39;49m\u001b[38;5;28;43mself\u001b[39;49m\u001b[38;5;241;43m.\u001b[39;49m\u001b[43m_args\u001b[49m\u001b[43m,\u001b[49m\u001b[43m \u001b[49m\u001b[38;5;241;43m*\u001b[39;49m\u001b[38;5;241;43m*\u001b[39;49m\u001b[43mkwargs\u001b[49m\u001b[43m)\u001b[49m\n\u001b[1;32m    216\u001b[0m \u001b[38;5;28;01mif\u001b[39;00m \u001b[38;5;28mself\u001b[39m\u001b[38;5;241m.\u001b[39m_mode \u001b[38;5;241m==\u001b[39m \u001b[38;5;124m\"\u001b[39m\u001b[38;5;124mw\u001b[39m\u001b[38;5;124m\"\u001b[39m:\n\u001b[1;32m    217\u001b[0m     \u001b[38;5;66;03m# ensure file doesn't get overridden when opened again\u001b[39;00m\n\u001b[1;32m    218\u001b[0m     \u001b[38;5;28mself\u001b[39m\u001b[38;5;241m.\u001b[39m_mode \u001b[38;5;241m=\u001b[39m \u001b[38;5;124m\"\u001b[39m\u001b[38;5;124ma\u001b[39m\u001b[38;5;124m\"\u001b[39m\n",
      "File \u001b[0;32msrc/netCDF4/_netCDF4.pyx:2449\u001b[0m, in \u001b[0;36mnetCDF4._netCDF4.Dataset.__init__\u001b[0;34m()\u001b[0m\n",
      "File \u001b[0;32msrc/netCDF4/_netCDF4.pyx:2012\u001b[0m, in \u001b[0;36mnetCDF4._netCDF4._ensure_nc_success\u001b[0;34m()\u001b[0m\n",
      "\u001b[0;31mOSError\u001b[0m: [Errno -90] NetCDF: file not found: 'http://icoast.rc.ufl.edu/thredds/dodsC/ian/L1_BEST_AVAILABLE/ocean_his.nc'"
     ]
    }
   ],
   "source": [
    "roms_file = 'http://icoast.rc.ufl.edu/thredds/dodsC/ian/L1_BEST_AVAILABLE/ocean_his.nc'\n",
    "run_name = 'L1_20230123'\n",
    "\n",
    "ds_mod = xroms.open_netcdf(roms_file)\n",
    "time_ini_model = ds_mod.ocean_time.values[0]\n",
    "time_end_model = ds_mod.ocean_time.values[-1]"
   ]
  },
  {
   "cell_type": "code",
   "execution_count": 3,
   "id": "f0d63357-99c3-49be-afcb-dd9b1c92eb6f",
   "metadata": {
    "tags": []
   },
   "outputs": [],
   "source": [
    "# These are the GOM buoys with data for Ian\n",
    "buoys = ['42039','42098', '42099']\n",
    "# pick one for testing\n",
    "buoy = buoys[0]"
   ]
  },
  {
   "cell_type": "code",
   "execution_count": 4,
   "id": "5b199586-ec1e-4023-92d0-4a2545dc28a9",
   "metadata": {
    "tags": []
   },
   "outputs": [],
   "source": [
    "MODEL_DIRECTORY = '/vortexfs1/share/usgs-share/Projects/Ian2022/ian10/drifters/'"
   ]
  },
  {
   "cell_type": "code",
   "execution_count": 5,
   "id": "7fa06ee9-96d4-4481-907e-df8081b6035c",
   "metadata": {
    "tags": []
   },
   "outputs": [],
   "source": [
    "# Process one buoy as a test\n",
    "fn = \"{}.spc2d\".format(buoy)\n",
    "dsm = read_swan(MODEL_DIRECTORY+fn)\n",
    "# get start/end times\n",
    "stime = dsm.time[0].values\n",
    "etime = dsm.time[-1].values\n",
    "print(stime,' to ',etime)\n",
    "dtmod = np.squeeze( dsm.time.values )\n",
    "hsmod = np.squeeze( dsm.efth.spec.hs().values )"
   ]
  },
  {
   "cell_type": "code",
   "execution_count": 5,
   "id": "7321b669-3ee7-4a87-b3bb-361301c00f3b",
   "metadata": {
    "tags": []
   },
   "outputs": [
    {
     "name": "stdout",
     "output_type": "stream",
     "text": [
      "2022-09-26T00:00:00.000000000  to  2022-10-02T00:00:00.000000000\n",
      "https://dods.ndbc.noaa.gov/thredds/dodsC/data/swden/42039/42039w9999.nc\n"
     ]
    },
    {
     "name": "stderr",
     "output_type": "stream",
     "text": [
      "/vortexfs1/home/csherwood/mambaforge/envs/NOPP/lib/python3.9/site-packages/dask/core.py:119: RuntimeWarning: invalid value encountered in divide\n",
      "  return func(*(_execute_task(a, cache) for a in args))\n"
     ]
    },
    {
     "name": "stdout",
     "output_type": "stream",
     "text": [
      "dmobs: nan\n",
      "dspr: nan\n",
      "0.2072119026495582\n"
     ]
    },
    {
     "name": "stderr",
     "output_type": "stream",
     "text": [
      "/vortexfs1/home/csherwood/mambaforge/envs/NOPP/lib/python3.9/site-packages/dask/core.py:119: RuntimeWarning: invalid value encountered in divide\n",
      "  return func(*(_execute_task(a, cache) for a in args))\n"
     ]
    }
   ],
   "source": [
    "# assume the file has all years, thus w9999 instead of w2022\n",
    "# read the NDBC buoy observations for the same time slice\n",
    "url ='https://dods.ndbc.noaa.gov/thredds/dodsC/data/swden/' + str(buoy) + '/' + str(buoy) + 'w9999' + '.nc'\n",
    "print(url)\n",
    "dso = read_ndbc(url, dd=10.0, chunks={}).sel(time=slice(stime, etime))\n",
    "dtobs = np.squeeze(dso.time)\n",
    "hsobs = np.squeeze(dso.efth.spec.hs().values)\n",
    "dmobs = np.squeeze(dso.efth.spec.dm().values)\n",
    "dsprobs = np.squeeze(dso.efth.spec.dspr().values)\n",
    "sweobs = np.squeeze(dso.efth.spec.swe().values)\n",
    "swobs = np.squeeze(dso.efth.spec.sw().values)\n",
    "print('dmobs:', dmobs[80])\n",
    "print('dspr:', dsprobs[80])\n",
    "\n",
    "# interpolate modeled to times of observation (in case some are missing)\n",
    "dsmi = dsm.interp(time=dso.time, method='nearest')\n",
    "hsmodi = np.squeeze( dsmi.efth.spec.hs().values )\n",
    "rmse = np.sqrt( np.nanmean( (hsobs - hsmodi)**2) )\n",
    "print(rmse)"
   ]
  },
  {
   "cell_type": "code",
   "execution_count": 6,
   "id": "ce4ebc44-14f7-49f9-a982-234990ed2614",
   "metadata": {
    "tags": []
   },
   "outputs": [
    {
     "data": {
      "text/plain": [
       "array([0.47495262, 0.4622986 , 0.45181854, 0.44710178, 0.41997618,\n",
       "       0.40144738, 0.43169433, 0.40735734, 0.38118236, 0.3728002 ,\n",
       "       0.34397674, 0.37140276, 0.36935079, 0.4017462 , 0.37981575,\n",
       "       0.43848831, 0.43769854, 0.36138624, 0.35449682, 0.3490215 ,\n",
       "       0.37841776, 0.38675057, 0.38835037, 0.41208252, 0.38108791,\n",
       "       0.42222269, 0.40792158, 0.3489699 , 0.36937787, 0.39605557,\n",
       "       0.43924935, 0.60468176, 0.90551641, 1.1880404 , 1.24370413,\n",
       "       1.34473786, 1.43902051, 1.54583309, 1.54338584, 1.5983554 ,\n",
       "       1.44305228, 1.55128335, 1.4061579 , 1.43924981, 1.42375563,\n",
       "       1.50630674,        nan,        nan, 1.76055673,        nan,\n",
       "              nan,        nan,        nan,        nan,        nan,\n",
       "              nan,        nan,        nan,        nan,        nan,\n",
       "              nan,        nan,        nan,        nan,        nan,\n",
       "              nan,        nan,        nan,        nan,        nan,\n",
       "              nan,        nan,        nan,        nan,        nan,\n",
       "              nan,        nan,        nan,        nan,        nan,\n",
       "              nan,        nan,        nan,        nan,        nan,\n",
       "              nan,        nan,        nan,        nan,        nan,\n",
       "              nan,        nan, 1.76041813,        nan,        nan,\n",
       "              nan,        nan,        nan,        nan, 1.83346665,\n",
       "              nan,        nan,        nan, 1.6814851 , 1.49374698,\n",
       "       1.33255247, 1.27098075, 1.12951492, 1.07702925, 0.99445664,\n",
       "       0.8921883 , 0.87082948, 0.78918693, 0.80201745, 0.77876571,\n",
       "       0.80405471, 0.80885104, 0.80846771, 0.85817247, 0.80835883,\n",
       "       0.85834492, 0.76804166, 0.75786278, 0.71297685, 0.74029996,\n",
       "       0.72122119, 0.78495351, 0.74281088, 0.8239029 , 0.89737391,\n",
       "       0.83557404, 0.82857466,        nan, 0.74661903,        nan,\n",
       "       0.64129867, 0.62169445, 0.62760495, 0.57274426, 0.58850998,\n",
       "       0.61362204, 0.59795654])"
      ]
     },
     "execution_count": 6,
     "metadata": {},
     "output_type": "execute_result"
    }
   ],
   "source": [
    "hsobs"
   ]
  },
  {
   "cell_type": "code",
   "execution_count": null,
   "id": "c9dfd9bc-92ee-425d-8eb6-9c73922a5bd6",
   "metadata": {
    "tags": []
   },
   "outputs": [],
   "source": [
    "dso.isel(time=80).spec.hs().values"
   ]
  },
  {
   "cell_type": "code",
   "execution_count": null,
   "id": "267e01a6-ab41-4aea-a42f-029dfaa749e5",
   "metadata": {
    "tags": []
   },
   "outputs": [],
   "source": [
    "url ='https://dods.ndbc.noaa.gov/thredds/dodsC/data/swden/' + str(buoy) + '/' + str(buoy) + 'w9999' + '.nc'\n",
    "ds = xr.open_dataset(url)\n",
    "time_ini_model = datetime.strptime('2022-09-26', '%Y-%m-%d')\n",
    "time_end_model = datetime.strptime('2022-10-01', '%Y-%m-%d')\n",
    "ds = ds.sel(time=slice(time_ini_model,time_end_model))\n",
    "ds"
   ]
  },
  {
   "cell_type": "code",
   "execution_count": null,
   "id": "b033ca5b-9ead-46b1-b408-6ad49191abe4",
   "metadata": {
    "tags": []
   },
   "outputs": [],
   "source": [
    "#for i in np.arange(len(ds.time)):\n",
    "i=80\n",
    "f = np.squeeze( ds.frequency )\n",
    "a1, b1, a2, b2 = to_moment( ds.wave_spectrum_r1[i], ds.wave_spectrum_r1[i], ds.mean_wave_dir[i], ds.principal_wave_dir[i] )\n",
    "spec1d = np.squeeze( ds.spectral_wave_density[i] )\n",
    "thetamw = calc_weighted_theta_mean_a1b1( a1, b1, spec1d, f )\n",
    "sigmatheta = calc_sigma_theta_a1b1( a1, b1, spec1d, f )\n",
    "print(thetamw, sigmatheta)"
   ]
  },
  {
   "cell_type": "code",
   "execution_count": null,
   "id": "2884c543-06b6-40ad-9f07-ff0a9e489cdc",
   "metadata": {
    "tags": []
   },
   "outputs": [],
   "source": [
    "plt.plot(f,np.squeeze(spec1d))\n",
    "plt.plot(f,np.squeeze(a1))\n",
    "plt.plot(f,np.squeeze(b1))"
   ]
  },
  {
   "cell_type": "code",
   "execution_count": null,
   "id": "d1fd006c",
   "metadata": {
    "tags": []
   },
   "outputs": [],
   "source": [
    "time_ini_model = datetime.strptime('2022-09-26', '%Y-%m-%d')\n",
    "time_end_model = datetime.strptime('2022-10-01', '%Y-%m-%d')\n",
    "buoys = \"42097\",\"42099\",\"42098\"\n",
    "\n",
    "for buoy in buoys:\n",
    "     # Open dataset\n",
    "     url ='https://dods.ndbc.noaa.gov/thredds/dodsC/data/stdmet/' + str(buoy) + '/' + str(buoy) + 'h9999.nc'\n",
    "     ds = xr.open_dataset(url)\n",
    "     lat1 = ds.latitude.values\n",
    "     lon1 = ds.longitude.values\n",
    "     print(lon1,lat1)\n",
    "     ds = ds.sel(time=slice(time_ini_model,time_end_model)) ####<<<<<We can us the datetime object to subset. no need to convert to strings. \n",
    "\n",
    "     #HWavel = ds_mod.Hwave.xroms.sel2d(lon1, lat1)\n",
    "\n",
    "     plt.figure()\n",
    "     ds.wave_height.plot()\n",
    "     #HWavel.plot()\n",
    "     plt.title('NDBC buoy observations')\n",
    "     plt.ylabel('Significat Wave height, m')\n",
    "     plt.xlabel('YYYY-MM-DD, UTC')\n",
    "     #plt.gca().legend([buoy, \"L1 COAWST\"])\n",
    "     fig_name = buoy + '_v2_' + run_name + '.png'\n",
    "     #plt.savefig(fig_name)"
   ]
  },
  {
   "cell_type": "code",
   "execution_count": null,
   "id": "252028bc-06d4-4be3-828b-882f90d12c91",
   "metadata": {
    "tags": []
   },
   "outputs": [],
   "source": [
    "ds"
   ]
  }
 ],
 "metadata": {
  "kernelspec": {
   "display_name": "Python 3 (ipykernel)",
   "language": "python",
   "name": "python3"
  },
  "language_info": {
   "codemirror_mode": {
    "name": "ipython",
    "version": 3
   },
   "file_extension": ".py",
   "mimetype": "text/x-python",
   "name": "python",
   "nbconvert_exporter": "python",
   "pygments_lexer": "ipython3",
   "version": "3.9.16"
  }
 },
 "nbformat": 4,
 "nbformat_minor": 5
}
