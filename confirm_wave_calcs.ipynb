{
 "cells": [
  {
   "cell_type": "markdown",
   "id": "b05c22d0-757b-4d66-b371-a868247e2410",
   "metadata": {},
   "source": [
    "#### `confirm_wave_calcs` - Check my calcs with spotter data  \n",
    "Based on code and advice from Isabel Houghton, Jake Davis, and Jim Thomson\n",
    "\n"
   ]
  },
  {
   "cell_type": "code",
   "execution_count": 1,
   "id": "1685d828-1638-4933-8280-1cef3d12b682",
   "metadata": {
    "tags": []
   },
   "outputs": [
    {
     "ename": "Exception",
     "evalue": "File `'wave_stats.py'` not found.",
     "output_type": "error",
     "traceback": [
      "\u001b[0;31m---------------------------------------------------------------------------\u001b[0m",
      "\u001b[0;31mOSError\u001b[0m                                   Traceback (most recent call last)",
      "File \u001b[0;32m~/mambaforge/envs/NOPP/lib/python3.9/site-packages/IPython/core/magics/execution.py:696\u001b[0m, in \u001b[0;36mExecutionMagics.run\u001b[0;34m(self, parameter_s, runner, file_finder)\u001b[0m\n\u001b[1;32m    695\u001b[0m     fpath \u001b[38;5;241m=\u001b[39m arg_lst[\u001b[38;5;241m0\u001b[39m]\n\u001b[0;32m--> 696\u001b[0m     filename \u001b[38;5;241m=\u001b[39m \u001b[43mfile_finder\u001b[49m\u001b[43m(\u001b[49m\u001b[43mfpath\u001b[49m\u001b[43m)\u001b[49m\n\u001b[1;32m    697\u001b[0m \u001b[38;5;28;01mexcept\u001b[39;00m \u001b[38;5;167;01mIndexError\u001b[39;00m \u001b[38;5;28;01mas\u001b[39;00m e:\n",
      "File \u001b[0;32m~/mambaforge/envs/NOPP/lib/python3.9/site-packages/IPython/utils/path.py:90\u001b[0m, in \u001b[0;36mget_py_filename\u001b[0;34m(name)\u001b[0m\n\u001b[1;32m     89\u001b[0m         \u001b[38;5;28;01mreturn\u001b[39;00m py_name\n\u001b[0;32m---> 90\u001b[0m \u001b[38;5;28;01mraise\u001b[39;00m \u001b[38;5;167;01mIOError\u001b[39;00m(\u001b[38;5;124m\"\u001b[39m\u001b[38;5;124mFile `\u001b[39m\u001b[38;5;132;01m%r\u001b[39;00m\u001b[38;5;124m` not found.\u001b[39m\u001b[38;5;124m\"\u001b[39m \u001b[38;5;241m%\u001b[39m name)\n",
      "\u001b[0;31mOSError\u001b[0m: File `'wave_stats.py'` not found.",
      "\nThe above exception was the direct cause of the following exception:\n",
      "\u001b[0;31mException\u001b[0m                                 Traceback (most recent call last)",
      "Cell \u001b[0;32mIn[1], line 17\u001b[0m\n\u001b[1;32m     14\u001b[0m \u001b[38;5;28;01mfrom\u001b[39;00m \u001b[38;5;21;01mwavespectra\u001b[39;00m \u001b[38;5;28;01mimport\u001b[39;00m read_ww3, read_swan, read_ndbc, read_netcdf\n\u001b[1;32m     15\u001b[0m \u001b[38;5;28;01mfrom\u001b[39;00m \u001b[38;5;21;01mroguewave\u001b[39;00m\u001b[38;5;21;01m.\u001b[39;00m\u001b[38;5;21;01mwavespectra\u001b[39;00m\u001b[38;5;21;01m.\u001b[39;00m\u001b[38;5;21;01mestimators\u001b[39;00m\u001b[38;5;21;01m.\u001b[39;00m\u001b[38;5;21;01mestimate\u001b[39;00m \u001b[38;5;28;01mimport\u001b[39;00m estimate_directional_distribution\n\u001b[0;32m---> 17\u001b[0m \u001b[43mget_ipython\u001b[49m\u001b[43m(\u001b[49m\u001b[43m)\u001b[49m\u001b[38;5;241;43m.\u001b[39;49m\u001b[43mrun_line_magic\u001b[49m\u001b[43m(\u001b[49m\u001b[38;5;124;43m'\u001b[39;49m\u001b[38;5;124;43mrun\u001b[39;49m\u001b[38;5;124;43m'\u001b[39;49m\u001b[43m,\u001b[49m\u001b[43m \u001b[49m\u001b[38;5;124;43m'\u001b[39;49m\u001b[38;5;124;43m-i wave_stats.py\u001b[39;49m\u001b[38;5;124;43m'\u001b[39;49m\u001b[43m)\u001b[49m\n",
      "File \u001b[0;32m~/mambaforge/envs/NOPP/lib/python3.9/site-packages/IPython/core/interactiveshell.py:2364\u001b[0m, in \u001b[0;36mInteractiveShell.run_line_magic\u001b[0;34m(self, magic_name, line, _stack_depth)\u001b[0m\n\u001b[1;32m   2362\u001b[0m     kwargs[\u001b[38;5;124m'\u001b[39m\u001b[38;5;124mlocal_ns\u001b[39m\u001b[38;5;124m'\u001b[39m] \u001b[38;5;241m=\u001b[39m \u001b[38;5;28mself\u001b[39m\u001b[38;5;241m.\u001b[39mget_local_scope(stack_depth)\n\u001b[1;32m   2363\u001b[0m \u001b[38;5;28;01mwith\u001b[39;00m \u001b[38;5;28mself\u001b[39m\u001b[38;5;241m.\u001b[39mbuiltin_trap:\n\u001b[0;32m-> 2364\u001b[0m     result \u001b[38;5;241m=\u001b[39m \u001b[43mfn\u001b[49m\u001b[43m(\u001b[49m\u001b[38;5;241;43m*\u001b[39;49m\u001b[43margs\u001b[49m\u001b[43m,\u001b[49m\u001b[43m \u001b[49m\u001b[38;5;241;43m*\u001b[39;49m\u001b[38;5;241;43m*\u001b[39;49m\u001b[43mkwargs\u001b[49m\u001b[43m)\u001b[49m\n\u001b[1;32m   2365\u001b[0m \u001b[38;5;28;01mreturn\u001b[39;00m result\n",
      "File \u001b[0;32m~/mambaforge/envs/NOPP/lib/python3.9/site-packages/IPython/core/magics/execution.py:707\u001b[0m, in \u001b[0;36mExecutionMagics.run\u001b[0;34m(self, parameter_s, runner, file_finder)\u001b[0m\n\u001b[1;32m    705\u001b[0m     \u001b[38;5;28;01mif\u001b[39;00m os\u001b[38;5;241m.\u001b[39mname \u001b[38;5;241m==\u001b[39m \u001b[38;5;124m'\u001b[39m\u001b[38;5;124mnt\u001b[39m\u001b[38;5;124m'\u001b[39m \u001b[38;5;129;01mand\u001b[39;00m re\u001b[38;5;241m.\u001b[39mmatch(\u001b[38;5;124mr\u001b[39m\u001b[38;5;124m\"\u001b[39m\u001b[38;5;124m^\u001b[39m\u001b[38;5;124m'\u001b[39m\u001b[38;5;124m.*\u001b[39m\u001b[38;5;124m'\u001b[39m\u001b[38;5;124m$\u001b[39m\u001b[38;5;124m\"\u001b[39m,fpath):\n\u001b[1;32m    706\u001b[0m         warn(\u001b[38;5;124m'\u001b[39m\u001b[38;5;124mFor Windows, use double quotes to wrap a filename: \u001b[39m\u001b[38;5;132;01m%r\u001b[39;00m\u001b[38;5;124mun \u001b[39m\u001b[38;5;124m\"\u001b[39m\u001b[38;5;124mmypath\u001b[39m\u001b[38;5;130;01m\\\\\u001b[39;00m\u001b[38;5;124mmyfile.py\u001b[39m\u001b[38;5;124m\"\u001b[39m\u001b[38;5;124m'\u001b[39m)\n\u001b[0;32m--> 707\u001b[0m     \u001b[38;5;28;01mraise\u001b[39;00m \u001b[38;5;167;01mException\u001b[39;00m(msg) \u001b[38;5;28;01mfrom\u001b[39;00m \u001b[38;5;21;01me\u001b[39;00m\n\u001b[1;32m    708\u001b[0m \u001b[38;5;28;01mexcept\u001b[39;00m \u001b[38;5;167;01mTypeError\u001b[39;00m:\n\u001b[1;32m    709\u001b[0m     \u001b[38;5;28;01mif\u001b[39;00m fpath \u001b[38;5;129;01min\u001b[39;00m sys\u001b[38;5;241m.\u001b[39mmeta_path:\n",
      "\u001b[0;31mException\u001b[0m: File `'wave_stats.py'` not found."
     ]
    }
   ],
   "source": [
    "import os\n",
    "import pickle\n",
    "from datetime import datetime, timezone\n",
    "from scipy import stats\n",
    "import matplotlib.pyplot as plt\n",
    "import pandas as pd\n",
    "\n",
    "import matplotlib.colors\n",
    "import numpy as np\n",
    "\n",
    "import xarray as xr\n",
    "import xroms\n",
    "import matplotlib.pyplot as plt\n",
    "from wavespectra import read_ww3, read_swan, read_ndbc, read_netcdf\n",
    "from roguewave.wavespectra.estimators.estimate import estimate_directional_distribution\n",
    "\n",
    "%run -i wave_stats.py\n"
   ]
  },
  {
   "cell_type": "markdown",
   "id": "c0c40098-74a3-4b12-886c-e7ce4b609577",
   "metadata": {},
   "source": [
    "#### Define some routines"
   ]
  },
  {
   "cell_type": "markdown",
   "id": "e3c9dc97-a3af-40ce-86d8-950c6534f8da",
   "metadata": {},
   "source": [
    "#### Start by loading spotter data "
   ]
  },
  {
   "cell_type": "code",
   "execution_count": null,
   "id": "6ebd8bc7-833f-48cc-9823-997b187fa244",
   "metadata": {
    "tags": []
   },
   "outputs": [],
   "source": [
    "DATA_DIRECTORY = '/vortexfs1/home/csherwood/proj/NOPP/buoy_data/'\n",
    "DATA_FILENAME = 'hurricane_ian_spotter_data_v1.pickle'\n",
    "#MODEL_DIRECTORY = '/vortexfs1/scratch/jwarner/Ian2022/ian10/'\n",
    "MODEL_DIRECTORY = '/vortexfs1/share/usgs-share/Projects/Ian2022/ian10/drifters/'\n",
    "\n",
    "# This runs the file with the new ndbc buoy input\n",
    "#%run -i /vortexfs1/home/csherwood/src/wavespectra/wavespectra/input/ndbc.py\n",
    "\n",
    "with open(os.path.join(DATA_DIRECTORY, DATA_FILENAME), 'rb') as handle:\n",
    "    spotter = pickle.load(handle)\n",
    "\n",
    "# `spotter` is a python dictionary of Pandas DataFrames, keyed by\n",
    "# each drifter ID. The drifter ids can then be accessed as follows:\n",
    "spotter_ids = list(spotter.keys())"
   ]
  },
  {
   "cell_type": "code",
   "execution_count": null,
   "id": "dc19d8f7-3b0e-4200-a664-cf018f6029c3",
   "metadata": {
    "tags": []
   },
   "outputs": [],
   "source": [
    "# pick one of the spotters\n",
    "sid = spotter_ids[0]\n",
    "# keep ones with wave data\n",
    "only_waves = spotter[sid]['energy_density'].notnull()\n",
    "spotter[sid][only_waves]"
   ]
  },
  {
   "cell_type": "code",
   "execution_count": null,
   "id": "9780cf2e-8efd-413e-a1f1-88995f45eb20",
   "metadata": {
    "tags": []
   },
   "outputs": [],
   "source": [
    "# pick a time\n",
    "time_index = 36\n",
    "\n",
    "# pull arrays from the buoys\n",
    "f  = spotter[sid][only_waves]['frequency'][time_index]\n",
    "Ef = spotter[sid][only_waves]['energy_density'][time_index]\n",
    "a1 = spotter[sid][only_waves]['a1'][time_index]\n",
    "b1 = spotter[sid][only_waves]['b1'][time_index]\n",
    "a2 = spotter[sid][only_waves]['a2'][time_index]\n",
    "b2 = spotter[sid][only_waves]['b2'][time_index]\n",
    "\n",
    "# first and second moments of 1D energy spectrum\n",
    "m0 = np.trapz(Ef, f)\n",
    "m1 = np.trapz(Ef * f, f)\n",
    "\n",
    "integrated_a1 = np.trapz(a1 * Ef, f) / m0\n",
    "integrated_b1 = np.trapz(b1 * Ef, f) / m0\n",
    "\n",
    "# Directional arrays (f)\n",
    "D1 = (-180./np.pi)*np.arctan2(b1,a1)+90\n",
    "D2 = (-180./np.pi)*0.5*np.arctan2(b2,a2)+90\n",
    "\n",
    "# Spread1 seems to be the standard spreading parameter (O'Reilly et al., 1996; Jim Thomson's code...)\n",
    "# Spread2 is an alternative proposed by O'Reilly et al. and appears in Jim Thomson's code\n",
    "# Spread_alt is in Jim Thomson's code...not sure where it comes from\n",
    "spread1 = (180./np.pi)*np.sqrt(2.*(1.-np.sqrt( a1**2 + b1**2)))\n",
    "spread2 = (180./np.pi)*np.sqrt(np.abs( 0.5 - 0.5 * ( a2*np.cos(2.*D2) + b2*np.sin(2.*D2) )  ))\n",
    "spread_alt = (180./np.pi)*np.sqrt(np.abs( 0.5 - 0.5 * ( a2**2 + b2**2 )  ))\n",
    "\n",
    "# peak parameters\n",
    "iEfmax = np.argmax(Ef)\n",
    "Tp = 1./f[iEfmax]\n",
    "Dp = D1[iEfmax]\n",
    "S1p = spread1[iEfmax]\n",
    "S2p = spread2[iEfmax]\n",
    "Sap = spread_alt[iEfmax]\n",
    "\n",
    "# standard bulk parameters\n",
    "Hs = 4 * np.sqrt(m0)\n",
    "# code from Isabel\n",
    "Dm = np.arctan2(integrated_b1, integrated_a1) * 180 / np.pi\n",
    "if(Dm<0.): Dm=Dm+360.\n",
    "Tm = m0 / m1\n",
    "\n",
    "# use model to make a 2dspec for spotter to compare round-tripping bulk stats\n",
    "directions = np.linspace(5,355,36)\n",
    "directional_bin_width = 10.\n",
    "spotter_spectrum_mem2 = (\n",
    "        estimate_directional_distribution(\n",
    "            a1,\n",
    "            b1,\n",
    "            a2,\n",
    "            b2,\n",
    "            direction=directions,\n",
    "            method=\"mem2\",\n",
    "        ).T\n",
    "        * Ef\n",
    ")\n",
    "# this method of construction results in:\n",
    "faxis = 1\n",
    "daxis = 0\n",
    "print('Check shape of spectrum: ',np.shape(spotter_spectrum_mem2))\n",
    "print('freq. axis = ',faxis,' direc. axis = ',daxis,', right?')\n",
    "\n",
    "spotter_spec1d = calc_spec1d( spotter_spectrum_mem2, directional_bin_width, daxis=daxis )"
   ]
  },
  {
   "cell_type": "code",
   "execution_count": null,
   "id": "aeba32f0-bb6a-4a3e-815b-4451fadfdb60",
   "metadata": {
    "tags": []
   },
   "outputs": [],
   "source": [
    "eps = np.finfo(float).eps\n",
    "print(eps)\n",
    "D = np.divide( spotter_spectrum_mem2, spotter_spec1d+eps )\n",
    "np.shape(D)"
   ]
  },
  {
   "cell_type": "code",
   "execution_count": null,
   "id": "71592537-e716-4a15-9821-44d74aaeb2d3",
   "metadata": {
    "tags": []
   },
   "outputs": [],
   "source": [
    "print(np.sum(D))\n",
    "print(np.sum(spotter_spectrum_mem2))\n",
    "print(np.sum(spotter_spec1d))"
   ]
  },
  {
   "cell_type": "code",
   "execution_count": null,
   "id": "4ab71d0e-563c-4ac3-8558-6f25e8307e70",
   "metadata": {
    "tags": []
   },
   "outputs": [],
   "source": [
    "# calc some bulk statistics based on the 2d spec\n",
    "Hs_spec2d = calc_Hs_2d( spotter_spectrum_mem2, f, directional_bin_width, faxis=faxis, daxis=daxis )\n",
    "TM01_spec2d = calc_TM01_2d( spotter_spectrum_mem2, f, directional_bin_width, faxis=faxis, daxis=daxis )\n",
    "TM02_spec2d = calc_TM02_2d( spotter_spectrum_mem2, f, directional_bin_width, faxis=faxis, daxis=daxis )\n",
    "\n",
    "H0_spec1d = 4.*np.sqrt( calc_m0(  spotter_spec1d, f) )\n",
    "FSPR = calc_FSPR( spotter_spec1d, f, TM02_spec2d )\n",
    "\n",
    "# Hs is very close\n",
    "# Tp is exactly right\n",
    "# Tm is very close\n",
    "# Dm is off\n",
    "# Dp is off by 180\n",
    "# S1P is exactly right\n",
    "\n",
    "# Don't have estimates of S1P or Saltp in spotter database\n",
    "# Don't know how to calculate mean direction or mean directional spread\n",
    "# Unsure of directional conventions\n",
    "print('Hs: ', Hs, spotter[sid][only_waves]['significant_height'][time_index], Hs_spec2d, H0_spec1d)\n",
    "print('Tp: ', Tp, spotter[sid][only_waves]['peak_period'][time_index])\n",
    "print('Tm: ', Tm, spotter[sid][only_waves]['mean_period'][time_index])\n",
    "print('TM01_2dspec: ', TM01_spec2d, 'TM02_2dspec: ',TM02_spec2d )\n",
    "print('Dm: ', Dm, spotter[sid][only_waves]['mean_direction'][time_index])\n",
    "print('Dp: ', Dp, spotter[sid][only_waves]['peak_direction'][time_index])\n",
    "print('S1p:' , S1p,spotter[sid][only_waves]['peak_directional_spread'][time_index])\n",
    "print('S2p, Saltp: ', S2p, Sap)\n",
    "print('FSPR:', FSPR )"
   ]
  },
  {
   "cell_type": "code",
   "execution_count": null,
   "id": "15837c9f-087e-47d6-adfb-e4d486ffb0b9",
   "metadata": {
    "tags": []
   },
   "outputs": [],
   "source": [
    "omega=2*np.pi*f\n",
    "print(omega)\n",
    "i = 0 + 1.j\n",
    "print(i)\n",
    "print(np.abs( np.exp(i*omega*10) ))\n"
   ]
  }
 ],
 "metadata": {
  "kernelspec": {
   "display_name": "Python 3 (ipykernel)",
   "language": "python",
   "name": "python3"
  },
  "language_info": {
   "codemirror_mode": {
    "name": "ipython",
    "version": 3
   },
   "file_extension": ".py",
   "mimetype": "text/x-python",
   "name": "python",
   "nbconvert_exporter": "python",
   "pygments_lexer": "ipython3",
   "version": "3.9.16"
  }
 },
 "nbformat": 4,
 "nbformat_minor": 5
}
