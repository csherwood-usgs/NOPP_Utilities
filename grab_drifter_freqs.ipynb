{
 "cells": [
  {
   "cell_type": "code",
   "execution_count": 1,
   "id": "1c20733b-ebd7-42ac-9b6c-7f0454bf8845",
   "metadata": {
    "tags": []
   },
   "outputs": [],
   "source": [
    "import os\n",
    "import pickle\n",
    "from datetime import datetime, timezone\n",
    "import matplotlib.pyplot as plt\n",
    "import pandas as pds\n",
    "import numpy as np\n"
   ]
  },
  {
   "cell_type": "code",
   "execution_count": 2,
   "id": "dd7b9b76-70d4-4051-b7d8-bc61ee13cf73",
   "metadata": {
    "tags": []
   },
   "outputs": [],
   "source": [
    "# Read selected drifters\n",
    "# Code from Jake Davis, UW\n",
    "DATA_DIRECTORY = '/vortexfs1/home/csherwood/proj/NOPP_Lee'\n",
    "DATA_FILENAME = 'hurricane_lee_drifter_data_v0.pickle'\n",
    "with open(os.path.join(DATA_DIRECTORY, DATA_FILENAME), 'rb') as handle:\n",
    "    drifters = pickle.load(handle)"
   ]
  },
  {
   "cell_type": "code",
   "execution_count": 15,
   "id": "db68a0bb-113c-4154-ad70-fd6b7e2c881d",
   "metadata": {
    "tags": []
   },
   "outputs": [],
   "source": [
    "# `drifters` is a python dictionary keyed by drifter type (spotter,\n",
    "# dwsd, or microswift)\n",
    "spotter = drifters['spotter']\n",
    "spotter_ids = list(spotter.keys())\n",
    "\n",
    "# The data for a single id (e.g. the first) can be accessed as:\n",
    "spotter_id = spotter_ids[0]\n",
    "\n",
    "dwsd = drifters['dwsd']\n",
    "dwsd_ids = list(dwsd.keys())\n",
    "# The data for a single id (e.g. the first) can be accessed as:\n",
    "dwsd_id = dwsd_ids[0]\n",
    "\n",
    "swift = drifters['microswift']\n",
    "swift_ids = list(swift.keys())\n",
    "# The data for a single id (e.g. the first) can be accessed as:\n",
    "swift_id = swift_ids[0]"
   ]
  },
  {
   "cell_type": "code",
   "execution_count": 11,
   "id": "98cc510e-bf62-4515-ba7f-cfe877543f2c",
   "metadata": {
    "tags": []
   },
   "outputs": [
    {
     "data": {
      "text/plain": [
       "'300534061901680'"
      ]
     },
     "execution_count": 11,
     "metadata": {},
     "output_type": "execute_result"
    }
   ],
   "source": [
    "dwsd_id"
   ]
  },
  {
   "cell_type": "code",
   "execution_count": 16,
   "id": "4afbbcfe-7fd5-45fc-b707-daea465fc87d",
   "metadata": {
    "tags": []
   },
   "outputs": [
    {
     "name": "stdout",
     "output_type": "stream",
     "text": [
      "Spotters: 0.0293 0.6543\n",
      "DWSD: 0.03125 0.49609375\n",
      "Microswift: 0.009765625 0.49047851562500006\n"
     ]
    }
   ],
   "source": [
    "dfa = drifters['spotter']['SPOT-31232C']\n",
    "dfa1 = dfa.loc[dfa.a1.dropna().index]\n",
    "f = dfa1.frequency[0]\n",
    "print('Spotters:', np.min(f), np.max(f))\n",
    "\n",
    "dfd = drifters['dwsd'][dwsd_id]\n",
    "dfd1 = dfd.loc[dfd.a1.dropna().index]\n",
    "f = dfd1.frequency[0]\n",
    "print('DWSD:', np.min(f), np.max(f))\n",
    "\n",
    "dfs = drifters['microswift'][swift_id]\n",
    "dfs1 = dfs.loc[dfs.a1.dropna().index]\n",
    "f = dfs1.frequency[0]\n",
    "print('Microswift:', np.min(f), np.max(f))"
   ]
  },
  {
   "cell_type": "code",
   "execution_count": null,
   "id": "393c1689-8465-43fc-9846-a5b0a4593627",
   "metadata": {},
   "outputs": [],
   "source": []
  }
 ],
 "metadata": {
  "kernelspec": {
   "display_name": "Python 3 (ipykernel)",
   "language": "python",
   "name": "python3"
  },
  "language_info": {
   "codemirror_mode": {
    "name": "ipython",
    "version": 3
   },
   "file_extension": ".py",
   "mimetype": "text/x-python",
   "name": "python",
   "nbconvert_exporter": "python",
   "pygments_lexer": "ipython3",
   "version": "3.9.16"
  }
 },
 "nbformat": 4,
 "nbformat_minor": 5
}
