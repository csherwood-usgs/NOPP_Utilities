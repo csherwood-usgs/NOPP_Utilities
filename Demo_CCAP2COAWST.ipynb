{
 "cells": [
  {
   "cell_type": "markdown",
   "id": "10b364aa-6f2e-42e0-9cd0-e63e38e7ca44",
   "metadata": {},
   "source": [
    "### Demonstrate method for converting CCAP landcover classes to COAWST classes  \n",
    "This is the first part of a two-step process.\n",
    "1) Convert CCAP to one a handful of COAWST classes\n",
    "2) Populate the initial arrays with data related to the COAWST class (e.g., stem density, etc).\n",
    "\n",
    "An alternative would be to define the veg characteristics for each class."
   ]
  },
  {
   "cell_type": "code",
   "execution_count": 1,
   "id": "91201668-89f2-4d11-8b68-631647f4a3dd",
   "metadata": {},
   "outputs": [],
   "source": [
    "import numpy as np"
   ]
  },
  {
   "cell_type": "code",
   "execution_count": 2,
   "id": "339d8ec3-99a7-4816-99b9-66f5771e2204",
   "metadata": {},
   "outputs": [],
   "source": [
    "# lookup table for converting C-CAP landcover to a simplified classification\n",
    "\n",
    "# COAWST landcover classes: we can expand this list if we need to.\n",
    "\n",
    "#CCLass: indices to tuples\n",
    "iDescription = 0\n",
    "iPlantHeight_m = 1\n",
    "iPlantThick_m = 2\n",
    "iStemDens_stems_m2 = 3\n",
    "iStemDiam_m = 4\n",
    "\n",
    "#   Id: (Name, PlantHeight(m), PlantThick(m), StemDens(stems/m2), StemDiam(m) )   \n",
    "CClass = {\n",
    "    0: (\"NoData\"    ,        0,   0,      0,   0 ), \n",
    "    1: (\"open water\",        0,   0,      0,   0), \n",
    "    2: (\"sandy\"     ,        0,   0,      0,   0),       \n",
    "    3: (\"grassy veg\",        0.5, 0.005,  1.0, 0.03),\n",
    "    4: (\"woody veg\" ,        2.0, 0.005, 10.0, 0.03),\n",
    "    5: (\"marshy veg\",        0.5, 0.005,  1.0, 0.03),\n",
    "    6: (\"devel open\",        0,   0,      0,   0),    \n",
    "    7: (\"devel structures\", 10,   1,      1,   1)\n",
    "    }\n",
    "\n",
    "# CCAP landcover classes\n",
    "# Tuple contains name and corresponding COAWST class. Those classes could be reassigned.\n",
    "# Classes we would not expect (e.g., tundra) return 0 as a warning something might be amiss\n",
    "CCAP = { 0: ( \"Background\" , 0 ),\n",
    "         1: ( \"Unclassified\", 0 ),\n",
    "         2: ( \"Developed, High Intensity\", 7 ),\n",
    "         3: ( \"Developed, Medium Intensity\", 7 ),\n",
    "         4: ( \"Devleoped, Low Intensity\", 7 ),\n",
    "         5: ( \"Developed, Open Space\", 6 ),\n",
    "         6: ( \"Cultivated Crops\", 3 ),\n",
    "         7: ( \"Pasture/Hay\", 3 ),\n",
    "         8: ( \"Grassland/Herbaceous\", 3),\n",
    "         9: ( \"Deciduous Forest\", 4 ),\n",
    "        10: ( \"Evergreen Forest\", 4 ),\n",
    "        11: ( \"Mixed Forest\", 4 ),\n",
    "        12: ( \"Scrub/Shrub\", 4 ),\n",
    "        13: ( \"Palustrine Forested Wetland\", 5 ),\n",
    "        14: ( \"Palustrine Scrub/Shrub Wetland\", 5 ),\n",
    "        15: ( \"Palustrine Emergent Wetland (Peristent)\", 5 ),\n",
    "        16: ( \"Estuarine Forested Wetland\", 4 ),\n",
    "        17: ( \"Estuarine Scrub/Shrub Wetland\", 4, ),\n",
    "        18: ( \"Estuarine Emergent Wetland\", 5 ),\n",
    "        19: ( \"Unconsolidated Shore\", 2 ),\n",
    "        20: ( \"Barren Land\", 2 ),\n",
    "        21: ( \"Open Water\", 1 ),\n",
    "        22: ( \"Palustrine Aquatic Bed\", 1 ),\n",
    "        23: ( \"Estuarine Aquatic Bed\", 1 ),\n",
    "        24: ( \"Tundra\", 0 ), \n",
    "        25: ( \"Perennial Ice/Snow\", 0 ),        \n",
    "       }\n",
    "\n"
   ]
  },
  {
   "cell_type": "code",
   "execution_count": 3,
   "id": "ced6b206-fa61-43c7-bbd1-52285d925dea",
   "metadata": {},
   "outputs": [
    {
     "name": "stdout",
     "output_type": "stream",
     "text": [
      "CCAP -> COAWST\n",
      "Background -> ('NoData', 0, 0, 0, 0)\n",
      "Unclassified -> ('NoData', 0, 0, 0, 0)\n",
      "Developed, High Intensity -> ('devel structures', 10, 1, 1, 1)\n",
      "Developed, Medium Intensity -> ('devel structures', 10, 1, 1, 1)\n",
      "Devleoped, Low Intensity -> ('devel structures', 10, 1, 1, 1)\n",
      "Developed, Open Space -> ('devel open', 0, 0, 0, 0)\n",
      "Cultivated Crops -> ('grassy veg', 0.5, 0.005, 1.0, 0.03)\n",
      "Pasture/Hay -> ('grassy veg', 0.5, 0.005, 1.0, 0.03)\n",
      "Grassland/Herbaceous -> ('grassy veg', 0.5, 0.005, 1.0, 0.03)\n",
      "Deciduous Forest -> ('woody veg', 2.0, 0.005, 10.0, 0.03)\n",
      "Evergreen Forest -> ('woody veg', 2.0, 0.005, 10.0, 0.03)\n",
      "Mixed Forest -> ('woody veg', 2.0, 0.005, 10.0, 0.03)\n",
      "Scrub/Shrub -> ('woody veg', 2.0, 0.005, 10.0, 0.03)\n",
      "Palustrine Forested Wetland -> ('marshy veg', 0.5, 0.005, 1.0, 0.03)\n",
      "Palustrine Scrub/Shrub Wetland -> ('marshy veg', 0.5, 0.005, 1.0, 0.03)\n",
      "Palustrine Emergent Wetland (Peristent) -> ('marshy veg', 0.5, 0.005, 1.0, 0.03)\n",
      "Estuarine Forested Wetland -> ('woody veg', 2.0, 0.005, 10.0, 0.03)\n",
      "Estuarine Scrub/Shrub Wetland -> ('woody veg', 2.0, 0.005, 10.0, 0.03)\n",
      "Estuarine Emergent Wetland -> ('marshy veg', 0.5, 0.005, 1.0, 0.03)\n",
      "Unconsolidated Shore -> ('sandy', 0, 0, 0, 0)\n",
      "Barren Land -> ('sandy', 0, 0, 0, 0)\n",
      "Open Water -> ('open water', 0, 0, 0, 0)\n",
      "Palustrine Aquatic Bed -> ('open water', 0, 0, 0, 0)\n",
      "Estuarine Aquatic Bed -> ('open water', 0, 0, 0, 0)\n",
      "Tundra -> ('NoData', 0, 0, 0, 0)\n",
      "Perennial Ice/Snow -> ('NoData', 0, 0, 0, 0)\n"
     ]
    }
   ],
   "source": [
    "print(\"CCAP -> COAWST\")\n",
    "for key in CCAP:\n",
    "    print(CCAP[key][0],'->', CClass[CCAP[key][1]])"
   ]
  },
  {
   "cell_type": "code",
   "execution_count": 4,
   "id": "7e1459a1-83b8-45dd-9345-3e9128497d3a",
   "metadata": {},
   "outputs": [
    {
     "name": "stdout",
     "output_type": "stream",
     "text": [
      "[[ 6 17  5 16  2 18]\n",
      " [ 9 17 23 16 10 24]\n",
      " [15 19  4 14 23  6]\n",
      " [14 12 10 23 11 12]\n",
      " [11  8  5  4 11  4]]\n"
     ]
    }
   ],
   "source": [
    "# Make a fake array of CCAP classes\n",
    "a = np.reshape( np.random.randint( 0, 25+1, size = 30 ), (5,6) )\n",
    "print(a)"
   ]
  },
  {
   "cell_type": "code",
   "execution_count": 5,
   "id": "37b556b0-84a1-4b94-9bf7-9c0fb8877c1d",
   "metadata": {},
   "outputs": [
    {
     "data": {
      "text/plain": [
       "0.5"
      ]
     },
     "execution_count": 5,
     "metadata": {},
     "output_type": "execute_result"
    }
   ],
   "source": [
    "CClass[CCAP[8][1]][iPlantHeight_m]"
   ]
  },
  {
   "cell_type": "code",
   "execution_count": 6,
   "id": "caa2765f-cd23-494f-a1a8-296c3c25ec7b",
   "metadata": {},
   "outputs": [
    {
     "name": "stdout",
     "output_type": "stream",
     "text": [
      "Shape:  (5, 6)\n",
      "[[ 0.5  2.   0.   2.  10.   0.5]\n",
      " [ 2.   2.   0.   2.   2.   0. ]\n",
      " [ 0.5  0.  10.   0.5  0.   0.5]\n",
      " [ 0.5  2.   2.   0.   2.   2. ]\n",
      " [ 2.   0.5  0.  10.   2.  10. ]]\n"
     ]
    }
   ],
   "source": [
    "# Convert array of CCAP classes to array of values for, e.g., plant height\n",
    "# brute force - there might be a faster way to do this\n",
    "s = np.shape(a)\n",
    "print(\"Shape: \",s)\n",
    "b = np.nan*np.zeros_like( a )\n",
    "for j in range (s[1]):\n",
    "    for i in range (s[0]):\n",
    "        b[i,j] = CClass[CCAP[a[i,j]][1]][iPlantHeight_m]\n",
    "        \n",
    "print(b)"
   ]
  }
 ],
 "metadata": {
  "kernelspec": {
   "display_name": "Python 3 (ipykernel)",
   "language": "python",
   "name": "python3"
  },
  "language_info": {
   "codemirror_mode": {
    "name": "ipython",
    "version": 3
   },
   "file_extension": ".py",
   "mimetype": "text/x-python",
   "name": "python",
   "nbconvert_exporter": "python",
   "pygments_lexer": "ipython3",
   "version": "3.9.15"
  }
 },
 "nbformat": 4,
 "nbformat_minor": 5
}
