{
 "cells": [
  {
   "cell_type": "markdown",
   "id": "10b364aa-6f2e-42e0-9cd0-e63e38e7ca44",
   "metadata": {},
   "source": [
    "### Demonstrate method for converting CCAP landcover classes to COAWST classes  \n",
    "This is the first part of a two-step process.\n",
    "1) Convert CCAP to one a handful of COAWST classes\n",
    "2) Populate the initial arrays with data related to the COAWST class (e.g., stem density, etc).\n",
    "\n",
    "An alternative would be to define the veg characteristics for each class."
   ]
  },
  {
   "cell_type": "code",
   "execution_count": 1,
   "id": "91201668-89f2-4d11-8b68-631647f4a3dd",
   "metadata": {},
   "outputs": [],
   "source": [
    "import numpy as np"
   ]
  },
  {
   "cell_type": "code",
   "execution_count": 2,
   "id": "339d8ec3-99a7-4816-99b9-66f5771e2204",
   "metadata": {},
   "outputs": [],
   "source": [
    "# lookup table for converting C-CAP landcover to a simplified classification\n",
    "\n",
    "# COAWST landcover classes: we can expand this list if we need to.\n",
    "CClass = { 0 : \"NoData\",\n",
    "           1 : \"bare\",\n",
    "           2 : \"grassy\",\n",
    "           3 : \"woody\",\n",
    "          }\n",
    "\n",
    "# CCAP landcover classes\n",
    "# Tuple contains name and corresponding COAWST class. Those classes could be reassigned.\n",
    "# Classes we would not expect (e.g., tundra) return 0 as a warning something might be amiss\n",
    "CCAP = { 0: ( \"Background\" , 0 ),\n",
    "         1: ( \"Unclassified\", 0 ),\n",
    "         2: ( \"Developed, High Intensity\", 1 ),\n",
    "         3: ( \"Developed, Medium Intensity\", 1 ),\n",
    "         4: ( \"Devleoped, Low Intensity\", 1 ),\n",
    "         5: ( \"Developed, Open Space\", 1 ),\n",
    "         6: ( \"Cultivated Crops\", 2 ),\n",
    "         7: ( \"Pasture/Hay\", 2 ),\n",
    "         8: ( \"Grassland/Herbaceous\", 2),\n",
    "         9: ( \"Deciduous Forest\", 3 ),\n",
    "        10: ( \"Evergreen Forest\", 3 ),\n",
    "        11: ( \"Mixed Forest\", 3 ),\n",
    "        12: ( \"Scrub/Shrub\", 3 ),\n",
    "        13: ( \"Palustrine Forested Wetland\", 3 ),\n",
    "        14: ( \"Palustrine Scrub/Shrub Wetland\", 3 ),\n",
    "        15: ( \"Palustrine Emergent Wetland (Peristent)\", 2 ),\n",
    "        16: ( \"Estuarine Forested Wetland\", 3 ),\n",
    "        17: ( \"Estuarine Scrub/Shrub Wetland\", 3, ),\n",
    "        18: ( \"Estuarine Emergent Wetland\", 2 ),\n",
    "        19: ( \"Unconsolidated Shore\", 1 ),\n",
    "        20: ( \"Barren Land\", 1 ),\n",
    "        21: ( \"Open Water\", 1 ),\n",
    "        22: ( \"Palustrine Aquatic Bed\", 1 ),\n",
    "        23: ( \"Estuarine Aquatic Bed\", 1 ),\n",
    "        24: ( \"Tundra\", 0 ), \n",
    "        25: ( \"Perennial Ice/Snow\", 0 ),        \n",
    "       }"
   ]
  },
  {
   "cell_type": "code",
   "execution_count": 3,
   "id": "ced6b206-fa61-43c7-bbd1-52285d925dea",
   "metadata": {},
   "outputs": [
    {
     "name": "stdout",
     "output_type": "stream",
     "text": [
      "CCAP COAWST\n",
      "Background -> NoData\n",
      "Unclassified -> NoData\n",
      "Developed, High Intensity -> bare\n",
      "Developed, Medium Intensity -> bare\n",
      "Devleoped, Low Intensity -> bare\n",
      "Developed, Open Space -> bare\n",
      "Cultivated Crops -> grassy\n",
      "Pasture/Hay -> grassy\n",
      "Grassland/Herbaceous -> grassy\n",
      "Deciduous Forest -> woody\n",
      "Evergreen Forest -> woody\n",
      "Mixed Forest -> woody\n",
      "Scrub/Shrub -> woody\n",
      "Palustrine Forested Wetland -> woody\n",
      "Palustrine Scrub/Shrub Wetland -> woody\n",
      "Palustrine Emergent Wetland (Peristent) -> grassy\n",
      "Estuarine Forested Wetland -> woody\n",
      "Estuarine Scrub/Shrub Wetland -> woody\n",
      "Estuarine Emergent Wetland -> grassy\n",
      "Unconsolidated Shore -> bare\n",
      "Barren Land -> bare\n",
      "Open Water -> bare\n",
      "Palustrine Aquatic Bed -> bare\n",
      "Estuarine Aquatic Bed -> bare\n",
      "Tundra -> NoData\n",
      "Perennial Ice/Snow -> NoData\n"
     ]
    }
   ],
   "source": [
    "print(\"CCAP COAWST\")\n",
    "for key in CCAP:\n",
    "    print(CCAP[key][0],'->', CClass[CCAP[key][1]])"
   ]
  },
  {
   "cell_type": "code",
   "execution_count": 4,
   "id": "7e1459a1-83b8-45dd-9345-3e9128497d3a",
   "metadata": {},
   "outputs": [
    {
     "name": "stdout",
     "output_type": "stream",
     "text": [
      "[[21 21 11 18  5 12]\n",
      " [23 25  2 18  4 22]\n",
      " [ 2 14 24  8  3 20]\n",
      " [ 4  1 19 19 20  8]\n",
      " [13  6 24 10  6  0]]\n"
     ]
    }
   ],
   "source": [
    "# Make a fake array of CCAP classes\n",
    "a = np.reshape( np.random.randint( 0, 25+1, size = 30 ), (5,6) )\n",
    "print(a)"
   ]
  },
  {
   "cell_type": "code",
   "execution_count": 5,
   "id": "caa2765f-cd23-494f-a1a8-296c3c25ec7b",
   "metadata": {},
   "outputs": [
    {
     "name": "stdout",
     "output_type": "stream",
     "text": [
      "Shape:  (5, 6)\n"
     ]
    }
   ],
   "source": [
    "# Convert to COAWST classes\n",
    "# brute force\n",
    "s = np.shape(a)\n",
    "print(\"Shape: \",s)\n",
    "b = np.zeros_like( a )\n",
    "for j in range (s[1]):\n",
    "    for i in range (s[0]):\n",
    "        b[i,j] = CCAP[a[i,j]][1]"
   ]
  },
  {
   "cell_type": "code",
   "execution_count": 6,
   "id": "9f5fbb84-e047-4e1e-abee-037adf7437c5",
   "metadata": {},
   "outputs": [
    {
     "name": "stdout",
     "output_type": "stream",
     "text": [
      "[[1 1 3 2 1 3]\n",
      " [1 0 1 2 1 1]\n",
      " [1 3 0 2 1 1]\n",
      " [1 0 1 1 1 2]\n",
      " [3 2 0 3 2 0]]\n"
     ]
    }
   ],
   "source": [
    "print(b)"
   ]
  }
 ],
 "metadata": {
  "kernelspec": {
   "display_name": "Python 3 (ipykernel)",
   "language": "python",
   "name": "python3"
  },
  "language_info": {
   "codemirror_mode": {
    "name": "ipython",
    "version": 3
   },
   "file_extension": ".py",
   "mimetype": "text/x-python",
   "name": "python",
   "nbconvert_exporter": "python",
   "pygments_lexer": "ipython3",
   "version": "3.9.15"
  }
 },
 "nbformat": 4,
 "nbformat_minor": 5
}
