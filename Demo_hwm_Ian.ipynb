{
 "cells": [
  {
   "cell_type": "markdown",
   "id": "99c5de97-6227-4521-a942-6c61212447bd",
   "metadata": {},
   "source": [
    "### Demo for reading peaks and high-water marks and comparing with model output\n",
    "\n",
    "Fields in the .csv files are described here: https://my.usgs.gov/confluence/display/WSN/STN+Data+Dictionary+-+Top+Level\n",
    "(but this will stop working on Jan 27, 2023, and a Sharepoint site will replace it)\n",
    "\n",
    "This notebook demonstrates reading the `.csv` files, picking out useful data, saveing those as smaller `.csv` files, plotting the data, and finding the data closest to a target lat/lon.\n",
    "\n",
    "csherwood@usgs.gov"
   ]
  },
  {
   "cell_type": "code",
   "execution_count": null,
   "id": "0772b07c-7995-44d6-a654-8883eaafb3ad",
   "metadata": {},
   "outputs": [],
   "source": [
    "import pandas as pd\n",
    "import numpy as np\n",
    "\n",
    "import xroms\n",
    "import matplotlib.pyplot as plt\n",
    "from scipy import stats\n",
    "\n",
    "# These files were downloaded from https://stn.wim.usgs.gov/fev/#2022Ian on 1/17/2023\n",
    "hwm_file = r'/vortexfs1/home/csherwood/proj/NOPP/data/FilteredHWMs.csv'\n",
    "peaks_file = r'/vortexfs1/home/csherwood/proj/NOPP/data/FilteredPeaks.csv'\n",
    "inst_file = r'/vortexfs1/home/csherwood/proj/NOPP/data/FilteredInstrument.csv'"
   ]
  },
  {
   "cell_type": "markdown",
   "id": "9504242f-b5e2-4d75-a9dd-6cdd5bacb89b",
   "metadata": {},
   "source": [
    "### Load the peaks data.\n",
    "Examination reveals:  \n",
    "* No time or stage estimates were made\n",
    "* vdatum = NAVD88 except for one point, which we drop\n",
    "* height_above_gnd is all NaNs\n",
    "* all times are UTC"
   ]
  },
  {
   "cell_type": "code",
   "execution_count": null,
   "id": "af22fb6d-7547-42d0-a3dc-926aec94431c",
   "metadata": {},
   "outputs": [],
   "source": [
    "df = pd.read_csv(peaks_file)\n",
    "#drop the record with local coordinates\n",
    "df = df.drop(labels=3, axis=0)\n",
    "# make a copy of the dataframe with the stuff we want in it.\n",
    "df_peaks = df[['latitude_dd','longitude_dd','peak_date']].copy()\n",
    "df_peaks['peak_stage_m'] = df['peak_stage'].values*0.3048\n",
    "df_peaks.describe()"
   ]
  },
  {
   "cell_type": "markdown",
   "id": "493f42e0-7ca0-4d75-a944-4f5e720868c1",
   "metadata": {},
   "source": [
    "### Read the high-water mark file\n",
    "Examination reveals:  \n",
    "    * All vdatum are NAVD88\n",
    "\n",
    "Values for `hwm_type_id`\n",
    "```\n",
    "HWM type code.  Current possibilities:\n",
    "1 Mud\n",
    "2 Debris\n",
    "3 Clear water\n",
    "4 Vegetation line\n",
    "5 Seed line\n",
    "6 Stain line\n",
    "7 Melted snow line\n",
    "8 Present at peak (direct observation)\n",
    "9 Other (Note in Description box)\n",
    "```\n",
    "Values for `hwm_quality_id`\n",
    "```\n",
    "HWM quality code.  Current possibilities:\n",
    "1 Excellent: +/- 0.05 ft\n",
    "2 Good: +/- 0.10 ft\n",
    "3 Fair: +/- 0.20 ft\n",
    "4 Poor: +/- 0.40 ft\n",
    "5 VP: > 0.40 ft\n",
    "6 Unknown/Historical\n",
    "```\n",
    "`stillwater` is boolean\n",
    "    \n"
   ]
  },
  {
   "cell_type": "code",
   "execution_count": null,
   "id": "c4bd26d3-94a9-4942-a85f-edbcc147e1ce",
   "metadata": {},
   "outputs": [],
   "source": [
    "df1 = pd.read_csv(hwm_file)\n",
    "df1"
   ]
  },
  {
   "cell_type": "markdown",
   "id": "56ee4233-d7cd-4647-be13-adf9960442cf",
   "metadata": {},
   "source": [
    "### Pull a subset of data from the dataframe. \n",
    "All of the data for H. Ian are in NAVD88, so not testing for that."
   ]
  },
  {
   "cell_type": "code",
   "execution_count": null,
   "id": "8cc3fdfc-e224-4871-a7b2-8d15010ee23d",
   "metadata": {},
   "outputs": [],
   "source": [
    "# Pull data we want into a dataset, rename as 'df_hwm'\n",
    "df_hwm = df1[['latitude_dd','longitude_dd','hwm_type_id','hwm_quality_id','stillwater']].copy()\n",
    "\n",
    "# add some columns with data converted to meters\n",
    "df_hwm['elev_m'] = df1['elev_ft'].values * 0.3048\n",
    "df_hwm['uncertainty_m'] = df1['uncertainty'].values * 0.3048\n",
    "df_hwm['height_above_gnd_m'] = df1['height_above_gnd'].values * 0.3048\n",
    "\n",
    "# you could save this as a .csv file using:\n",
    "df_hwm.to_csv('hwm_data.csv', index=False, float_format = '%.6f')\n",
    "\n",
    "# get the statistics for each column\n",
    "# note: not all of the columns have data...some are missing uncertainty and/or height_above_ground\n",
    "df_hwm.describe()"
   ]
  },
  {
   "cell_type": "code",
   "execution_count": null,
   "id": "6034cf92-a0b6-4086-b371-26ab9cb46dc0",
   "metadata": {},
   "outputs": [],
   "source": [
    "# For fun, make a map of the height above ground of the high-water marks\n",
    "df_hwm.plot.scatter(x='longitude_dd', y='latitude_dd', s = 25, c = 'height_above_gnd_m' )"
   ]
  },
  {
   "cell_type": "markdown",
   "id": "5b03dc63-13cf-4ded-a178-a0c8ef6b0740",
   "metadata": {},
   "source": [
    "#### Demonstrate finding result closest to a target lat/long (not actually needed)"
   ]
  },
  {
   "cell_type": "code",
   "execution_count": null,
   "id": "eb4fb63c-8cff-44d1-9cc4-76ab16558d60",
   "metadata": {},
   "outputs": [],
   "source": [
    "# Calc. distances from target with Haversine formula\n",
    "# Modified after https://stackoverflow.com/questions/29545704/fast-haversine-approximation-python-pandas\n",
    "\n",
    "# Provide target lat/lon...the formula requires radians\n",
    "tlat = np.deg2rad( 27.8 )\n",
    "tlon = np.deg2rad( -81.7 )\n",
    "df_hwm[[\"lat_rad\", \"lon_rad\"]] = np.deg2rad(df_hwm[['latitude_dd', 'longitude_dd']])\n",
    "dlon = df_hwm['lon_rad'].values - tlon\n",
    "dlat = df_hwm['lat_rad'].values - tlat\n",
    "\n",
    "a = np.sin(dlat/2.0)**2 + np.cos(tlat) * np.cos(df_hwm['lat_rad'].values) * np.sin(dlon/2.0)**2\n",
    "# multiply by radius of earth to get result in km\n",
    "dist = 6367.* 2. * np.arcsin(np.sqrt(a))\n",
    "\n",
    "# index of closest one\n",
    "imin = np.argmin( dist )\n",
    "\n",
    "print(dist[imin])\n",
    "\n",
    "print(df_hwm.iloc[imin])"
   ]
  },
  {
   "cell_type": "markdown",
   "id": "fe570acc-8b1d-4a5a-9171-03666fa1bbfc",
   "metadata": {},
   "source": [
    "#### Load the model output"
   ]
  },
  {
   "cell_type": "code",
   "execution_count": null,
   "id": "68ec2cd0-5573-4e56-b0d4-c7a5cc7d290e",
   "metadata": {},
   "outputs": [],
   "source": [
    "url='http://geoport.whoi.edu/thredds/dodsC/vortexfs1/usgs/Projects/Ian2022/ian5/qck/ian_ocean_sanibel_qck.nc'\n",
    "ds=xroms.open_netcdf(url)\n",
    "\n",
    "# define bounding box (This is too big)\n",
    "lonmin = -82.7\n",
    "lonmax = -80.3\n",
    "latmin = 24.\n",
    "latmax = 31.\n",
    "\n",
    "# this condition defines the region of interest\n",
    "box = ((lonmin < ds.lon_rho) & (ds.lon_rho < lonmax) & (latmin < ds.lat_rho) & (ds.lat_rho < latmax)).compute()"
   ]
  },
  {
   "cell_type": "code",
   "execution_count": null,
   "id": "829b473e-46f1-4e09-b11d-c82d448eae32",
   "metadata": {},
   "outputs": [],
   "source": [
    "ds"
   ]
  },
  {
   "cell_type": "code",
   "execution_count": null,
   "id": "8a13fa4b-5698-4597-93b9-bafda4dbcd66",
   "metadata": {},
   "outputs": [],
   "source": [
    "dss=ds.where(box, drop=True).zeta\n",
    "dss"
   ]
  },
  {
   "cell_type": "code",
   "execution_count": null,
   "id": "6a2ba06b-ba31-4d21-9f3c-a52349d593cf",
   "metadata": {},
   "outputs": [],
   "source": [
    "# Get wet/dry mask (1=wet, 0=dry) and calculate max (should correspond with max water levels)\n",
    "dswd = ds.where(box, drop=True).wetdry_mask_rho\n",
    "wd = dswd.max(dim='ocean_time').compute()"
   ]
  },
  {
   "cell_type": "code",
   "execution_count": null,
   "id": "3a63e725-0ac2-4b25-80c6-2460b654862a",
   "metadata": {},
   "outputs": [],
   "source": [
    "wd.plot(x=\"lon_rho\", y=\"lat_rho\", cmap='coolwarm')"
   ]
  },
  {
   "cell_type": "code",
   "execution_count": null,
   "id": "4f5f2e39-f37b-47d0-8c2a-4dac8e191939",
   "metadata": {},
   "outputs": [],
   "source": [
    "# find the maximum water level over the entire time\n",
    "# adding the .compute() function was key to speeding up the lat/lon lookup below\n",
    "zmax = dss.max(dim='ocean_time').compute()"
   ]
  },
  {
   "cell_type": "code",
   "execution_count": null,
   "id": "5fee0e82-9e99-4329-8bbd-f6c4b880301b",
   "metadata": {},
   "outputs": [],
   "source": [
    "# TODO - make real maps\n",
    "vmin=0\n",
    "vmax=4\n",
    "fig = plt.figure()\n",
    "zmax.plot(x=\"lon_rho\", y=\"lat_rho\", vmin=vmin, vmax=vmax, cmap='coolwarm')\n",
    "# Make a map of the height above ground of the high-water marks\n",
    "plt.scatter( df_hwm['longitude_dd'], df_hwm['latitude_dd'], s=30, c = df_hwm['elev_m'], \\\n",
    "            edgecolor='dimgray',vmin=vmin, vmax=vmax, label='HW Marks',cmap='coolwarm' )\n",
    "plt.scatter( df_peaks['longitude_dd'], df_peaks['latitude_dd'], s=30, c = df_peaks['peak_stage_m'], \\\n",
    "            edgecolor='dimgray', vmin=vmin, vmax=vmax, marker = '*', label='Peaks',cmap='coolwarm' )\n",
    "plt.xlim([-82.6,-81.5])\n",
    "plt.ylim([26.2,27.2])\n",
    "plt.legend()"
   ]
  },
  {
   "cell_type": "code",
   "execution_count": null,
   "id": "ab4be9ad-c866-4f96-bae5-c065c7d291fb",
   "metadata": {},
   "outputs": [],
   "source": [
    "# Loop through the high-water marks and find zmax in nearest model grid point\n",
    "# This was glacially slow before I added the .compute() function while calculating zmax\n",
    "meas_hwm = df_hwm['elev_m'].values\n",
    "meas_qc = df_hwm['hwm_quality_id'].values\n",
    "model_zeta_hwm = np.nan*np.ones_like( meas_hwm )\n",
    "hwm_mask = np.nan*np.ones_like( meas_hwm )\n",
    "\n",
    "for i, (lonr, latr) in enumerate( zip(df_hwm['longitude_dd'].values, df_hwm['latitude_dd'].values) ):\n",
    "    model_zeta_hwm[i] =  zmax.xroms.sel2d(lonr, latr).values\n",
    "    hwm_mask[i] = wd.xroms.sel2d(lonr, latr).values\n",
    "\n",
    "meas_peaks = df_peaks['peak_stage_m'].values\n",
    "model_zeta_peaks = np.nan*np.ones_like( meas_peaks )\n",
    "peak_mask = np.nan*np.ones_like( meas_peaks )\n",
    "for i, (lonr, latr) in enumerate( zip(df_peaks['longitude_dd'].values, df_peaks['latitude_dd'].values) ):\n",
    "    model_zeta_peaks[i] =  zmax.xroms.sel2d(lonr, latr).values\n",
    "    peak_mask[i] =  wd.xroms.sel2d(lonr, latr).values"
   ]
  },
  {
   "cell_type": "code",
   "execution_count": null,
   "id": "fb3323b4-dc33-4c24-ab62-1aa85050df9a",
   "metadata": {},
   "outputs": [],
   "source": [
    "mod_hwm_good = model_zeta_hwm[meas_qc<3][hwm_mask[meas_qc<3]==1]\n",
    "meas_hwm_good = meas_hwm[meas_qc<3][hwm_mask[meas_qc<3]==1]\n",
    "mod_hwm_other = model_zeta_hwm[meas_qc>=3][hwm_mask[meas_qc>=3]==1]\n",
    "meas_hwm_other = meas_hwm[meas_qc>=3][hwm_mask[meas_qc>=3]==1]\n",
    "model_peaks = model_zeta_peaks[peak_mask==1]\n",
    "meas_mpeaks = meas_peaks[peak_mask==1]\n",
    "\n",
    "gradient_hwm_good, intercept_hwm_good, r_value, p_value, std_err = stats.linregress(mod_hwm_good, meas_hwm_good)\n",
    "ts_good = 'HWM, Good QC: $r^2$={:.2f}, slope={:.2f}'.format(r_value,gradient_hwm_good)\n",
    "print(ts_good)\n",
    "gradient_hwm_other, intercept_hwm_other, r_value, p_value, std_err = stats.linregress(mod_hwm_other, meas_hwm_other)\n",
    "ts_other = 'HWM, Other QC: $r^2$={:.2f}, slope={:.2f}'.format(r_value,gradient_hwm_fair)\n",
    "print(ts_other)\n",
    "gradient_peaks, intercept_peaks, r_value, p_value, std_err = stats.linregress(model_peaks, meas_mpeaks)\n",
    "ts_peaks = 'Peaks: $r^2$={:.2f}, slope={:.2f}'.format(r_value,gradient_peaks)\n",
    "print(ts_peaks)\n",
    "x_good = np.array((np.min(mod_hwm_good), np.max(mod_hwm_good)))\n",
    "y_good = intercept_hwm_good + gradient_hwm_good * x_good\n",
    "x_other = np.array((np.min(mod_hwm_other), np.max(mod_hwm_other)))\n",
    "y_other = intercept_hwm_other + gradient_hwm_other * x_other\n",
    "x_peaks = np.array((np.min(model_peaks), np.max(model_peaks)))\n",
    "y_peaks = intercept_peaks + gradient_peaks * x_peaks"
   ]
  },
  {
   "cell_type": "code",
   "execution_count": null,
   "id": "616e347a-958a-418d-892b-2d0196bb336a",
   "metadata": {},
   "outputs": [],
   "source": [
    "cols = ['#e66101','#fdb863','#b2abd2','#5e3c99']\n",
    "\n",
    "fig, ax = plt.subplots(1, 1, figsize=(8, 6))  # setup the plot\n",
    "plt.plot([0,4.5],[0,4.5],'--',c='grey')\n",
    "plt.plot( x_good, y_good, '--',c=cols[3])\n",
    "plt.plot( x_other, y_other, '--',c=cols[2])\n",
    "plt.plot( x_peaks, y_peaks, '--',c=cols[0])\n",
    "plt.plot(mod_hwm_other, meas_hwm_other,'o',c=cols[2],label='HWM (QC > 2)')\n",
    "plt.plot(mod_hwm_good, meas_hwm_good,'o',c=cols[3],label='HWM (QC <= 2')\n",
    "plt.plot(model_zeta_peaks[peak_mask==1], meas_peaks[peak_mask==1],'s', c=cols[0], label='Peaks')\n",
    "\n",
    "plt.ylabel('Observed Max. Water Levels (m NAVD88)')\n",
    "plt.xlabel('Modeled Max. Water Levels (m MSL)')\n",
    "plt.xlim([0,4.5])\n",
    "plt.ylim([0,4.5])\n",
    "\n",
    "# chagne the order of stuff in the legend\n",
    "#get handles and labels\n",
    "handles, labels = plt.gca().get_legend_handles_labels()\n",
    "#specify order of items in legend\n",
    "order = [2,1,0]\n",
    "#add legend to plot\n",
    "plt.legend([handles[idx] for idx in order],[labels[idx] for idx in order])\n",
    "\n",
    "#plt.legend()\n",
    "plt.text(x=1.05, y=.90, s=ts_peaks, fontsize=10, c='k',transform=ax.transAxes,\\\n",
    "             horizontalalignment='left', verticalalignment='bottom')\n",
    "plt.text(x=1.05, y=.85, s=ts_good, fontsize=10, c='k',transform=ax.transAxes,\\\n",
    "             horizontalalignment='left', verticalalignment='bottom')\n",
    "plt.text(x=1.05, y=.80, s=ts_other, fontsize=10, c='k',transform=ax.transAxes,\\\n",
    "             horizontalalignment='left', verticalalignment='bottom')\n",
    "\n",
    "\n",
    "\n",
    "ax.set_aspect(1)\n",
    "plt.tight_layout()\n",
    "\n",
    "plt.savefig('hwm_v_model.png',dpi=400)\n",
    "plt.savefig('hwm_v_model.svg',dpi=400)"
   ]
  }
 ],
 "metadata": {
  "kernelspec": {
   "display_name": "Python 3 (ipykernel)",
   "language": "python",
   "name": "python3"
  },
  "language_info": {
   "codemirror_mode": {
    "name": "ipython",
    "version": 3
   },
   "file_extension": ".py",
   "mimetype": "text/x-python",
   "name": "python",
   "nbconvert_exporter": "python",
   "pygments_lexer": "ipython3",
   "version": "3.9.16"
  }
 },
 "nbformat": 4,
 "nbformat_minor": 5
}
