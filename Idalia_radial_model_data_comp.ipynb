{
 "cells": [
  {
   "cell_type": "code",
   "execution_count": 10,
   "id": "4edd521e-40c7-478e-bc22-a24444ab9c42",
   "metadata": {
    "tags": []
   },
   "outputs": [],
   "source": [
    "# Idalia_radial_model_data_comp\n",
    "import os\n",
    "import pickle\n",
    "from datetime import datetime, timezone\n",
    "from scipy import stats\n",
    "import matplotlib.pyplot as plt\n",
    "import pandas as pd\n",
    "\n",
    "from pathlib import Path\n",
    "\n",
    "import matplotlib.colors\n",
    "import matplotlib.cm as cm\n",
    "\n",
    "import numpy as np\n",
    "\n",
    "import xarray as xr\n",
    "import xroms\n",
    "import matplotlib.pyplot as plt\n",
    "from wavespectra import read_ww3, read_swan, read_ndbc, read_netcdf\n",
    "from wavespectra.input.swan import read_swans\n",
    "\n",
    "%run -i wave_stats.py\n",
    "%run -i spec_plot_funcs.py"
   ]
  },
  {
   "cell_type": "markdown",
   "id": "e1aef133-ffc2-44d2-b037-e4ccdbed959b",
   "metadata": {},
   "source": [
    "#### Import Hurricane Track"
   ]
  },
  {
   "cell_type": "code",
   "execution_count": 2,
   "id": "7c0040c2-a416-4523-83f1-0d7a7b18a4fd",
   "metadata": {
    "tags": []
   },
   "outputs": [],
   "source": [
    "import geopandas as gpd\n",
    "import cartopy.crs as crs\n",
    "import cartopy.feature as cf\n",
    "gd1 = gpd.read_file(DATA_DIRECTORY+'track/AL102023_pts.shp')\n",
    "lt1 = gd1.LAT\n",
    "ln1 = gd1.LON\n",
    "hurpth = np.array(list(zip(ln1,lt1)))"
   ]
  },
  {
   "cell_type": "markdown",
   "id": "98d7db0a-fbf7-4c19-979a-26460b2911c2",
   "metadata": {},
   "source": [
    "#### Load drifter data and assign nicknames"
   ]
  },
  {
   "cell_type": "code",
   "execution_count": 3,
   "id": "25b794bc-7668-4795-aa34-25deda08cafb",
   "metadata": {
    "tags": []
   },
   "outputs": [
    {
     "name": "stdout",
     "output_type": "stream",
     "text": [
      "SPOT-30025D S025D\n",
      "SPOT-30052D S052D\n",
      "SPOT-30055D S055D\n",
      "SPOT-30061D S061D\n",
      "SPOT-30066D S066D\n",
      "SPOT-30095D S095D\n",
      "SPOT-30101D S101D\n",
      "SPOT-30102D S102D\n",
      "SPOT-30103D S103D\n",
      "SPOT-30164D S164D\n",
      "300534060649690 D9690\n",
      "300534060941280 D1280\n",
      "300534064703160 D3160\n",
      "300534064703730 D3730\n",
      "300534064800060 D0060\n",
      "300534064800070 D0070\n",
      "300534064800090 D0090\n",
      "300534064800250 D0250\n",
      "300534061518160 D8160\n",
      "300534060949490 D9490\n",
      "300534061518010 D8010\n",
      "029 M0029\n",
      "037 M0037\n",
      "046 M0046\n",
      "048 M0048\n"
     ]
    }
   ],
   "source": [
    "with open(os.path.join(DATA_DIRECTORY, DATA_FILENAME), 'rb') as handle:\n",
    "    drifters = pickle.load(handle)\n",
    "\n",
    "drifter_types = ['spotter', 'dwsd', 'microswift']\n",
    "pfx = ['S', 'D', 'M']\n",
    "# `drifters` is a python dictionary keyed by drifter type (spotter,\n",
    "# dwsd, or microswift)\n",
    "# `spotter` is a python dictionary of Pandas DataFrames, keyed by\n",
    "# each drifter ID. The drifter ids can then be accessed as follows:\n",
    "spotter = drifters['spotter']\n",
    "spotter_ids = list(spotter.keys())\n",
    "\n",
    "dwsd = drifters['dwsd']\n",
    "dwsd_ids = list(dwsd.keys())\n",
    "    \n",
    "mswift = drifters['microswift']\n",
    "mswift_ids = list(mswift.keys())\n",
    "\n",
    "# Make nicknames for these drifters to conform with the max. 8 char limit in SWAN filesname\n",
    "# after adding three characters for a counter (to differentiate the POINTS).\n",
    "snames=['S025D','S052D','S055D','S061D','S066D','S095D','S101D','S102D','S103D','S164D',\n",
    "    'D9690','D1280','D3160', 'D3730','D0060','D0070','D0090','D0250','D8160','D9490','D8010',\n",
    "    'M0029','M0037','M0046','M0048']\n",
    "\n",
    "icount=0\n",
    "for dtype in drifter_types:\n",
    "    drifter_data = drifters[dtype]\n",
    "    for id in list(drifter_data.keys()):\n",
    "        print(id, snames[icount])\n",
    "        icount += 1"
   ]
  },
  {
   "cell_type": "code",
   "execution_count": 21,
   "id": "1117eaeb-fc4c-475b-8bd4-37fbb961e62e",
   "metadata": {
    "tags": []
   },
   "outputs": [
    {
     "ename": "TypeError",
     "evalue": "an integer is required (got type Timestamp)",
     "output_type": "error",
     "traceback": [
      "\u001b[0;31m---------------------------------------------------------------------------\u001b[0m",
      "\u001b[0;31mTypeError\u001b[0m                                 Traceback (most recent call last)",
      "Cell \u001b[0;32mIn[21], line 32\u001b[0m\n\u001b[1;32m     29\u001b[0m ipt \u001b[38;5;241m=\u001b[39m \u001b[38;5;241m0\u001b[39m \u001b[38;5;66;03m# index must stay below 1000 or file names will be too long\u001b[39;00m\n\u001b[1;32m     30\u001b[0m \u001b[38;5;28;01mfor\u001b[39;00m index, row \u001b[38;5;129;01min\u001b[39;00m drifter_data[\u001b[38;5;28mid\u001b[39m][only_waves]\u001b[38;5;241m.\u001b[39mloc[\u001b[38;5;124m'\u001b[39m\u001b[38;5;124m2023-08-29 1200\u001b[39m\u001b[38;5;124m'\u001b[39m:\u001b[38;5;124m'\u001b[39m\u001b[38;5;124m2023-08-30 2300\u001b[39m\u001b[38;5;124m'\u001b[39m]\u001b[38;5;241m.\u001b[39miterrows():\n\u001b[0;32m---> 32\u001b[0m     \u001b[38;5;28mprint\u001b[39m( (\u001b[43mdatetime\u001b[49m\u001b[38;5;241;43m.\u001b[39;49m\u001b[43mfromtimestamp\u001b[49m\u001b[43m(\u001b[49m\u001b[43mindex\u001b[49m\u001b[43m)\u001b[49m)\u001b[38;5;241m.\u001b[39mbetween_time(start_time, end_time, include_start\u001b[38;5;241m=\u001b[39m\u001b[38;5;28;01mTrue\u001b[39;00m, include_end\u001b[38;5;241m=\u001b[39m\u001b[38;5;28;01mFalse\u001b[39;00m) )\n\u001b[1;32m     34\u001b[0m     fn \u001b[38;5;241m=\u001b[39m \u001b[38;5;124m\"\u001b[39m\u001b[38;5;132;01m{}\u001b[39;00m\u001b[38;5;132;01m{:03d}\u001b[39;00m\u001b[38;5;124m.spc2d\u001b[39m\u001b[38;5;124m\"\u001b[39m\u001b[38;5;241m.\u001b[39mformat( snames[icount], ipt)\n\u001b[1;32m     35\u001b[0m     pathname \u001b[38;5;241m=\u001b[39m os\u001b[38;5;241m.\u001b[39mpath\u001b[38;5;241m.\u001b[39mjoin(MODEL_DIRECTORY, fn)\n",
      "\u001b[0;31mTypeError\u001b[0m: an integer is required (got type Timestamp)"
     ]
    }
   ],
   "source": [
    "# Create the SWAN output file names, read SWAN model data, and populate bulk statistics arrays\n",
    "\n",
    "dt = []\n",
    "time = []\n",
    "did = []\n",
    "lat= []\n",
    "lon= []\n",
    "hsmod = []\n",
    "hsobs = []\n",
    "tpmod = []\n",
    "tpobs = []\n",
    "mdirobs  = []\n",
    "mdirsobs = []\n",
    "mdirmod  = []\n",
    "mdirsmod = []\n",
    "\n",
    "start_time = datetime(2023,8,30,11,35,0)\n",
    "end_time = datetime(2023,8,30,12,15,0)\n",
    "\n",
    "igood=0\n",
    "icount=0\n",
    "for dtype in drifter_types :\n",
    "    drifter_data = drifters[dtype]\n",
    "    for id in drifter_data.keys():\n",
    "\n",
    "        # Some rows have times with other data but no wave info (Spotters only)\n",
    "        only_waves = drifter_data[id]['energy_density'].notnull()\n",
    "\n",
    "        ipt = 0 # index must stay below 1000 or file names will be too long\n",
    "        for index, row in drifter_data[id][only_waves].loc['2023-08-29 1200':'2023-08-30 2300'].iterrows():\n",
    "            \n",
    "            print( (datetime.fromtimestamp(index)).between_time(start_time, end_time, include_start=True, include_end=False) )\n",
    "           \n",
    "            fn = \"{}{:03d}.spc2d\".format( snames[icount], ipt)\n",
    "            pathname = os.path.join(MODEL_DIRECTORY, fn)\n",
    "\n",
    "            index.dt.hour.between(8, 21, inclusive=True)\n",
    "            if Path(pathname).is_file():\n",
    "                # drifter obs\n",
    "                igood+=1\n",
    "                print( index, pathname )\n",
    "                did.append( snames[icount] )\n",
    "                dt.append( index )\n",
    "                time.append( index.strftime('%Y%m%d.%H%m') )\n",
    "                lat.append( row['latitude'] )\n",
    "                lon.append( row['longitude'] )\n",
    "                hsobs = ( row['significant_height'] )\n",
    "                tpobs.append( row['peak_period'] )\n",
    "                mdirobs.append( row['mean_direction'] )\n",
    "                mdirsobs.append( row['mean_directional_spread'] )\n",
    "                f = row['frequency']\n",
    "                S = row['energy_density']\n",
    "                a1 = row['a1']\n",
    "                b1 = row['b1']\n",
    "                a2 = row['a2']\n",
    "                b2 = row['b2']\n",
    "                # bulk parameters from f, S, a1, b1, etc.\n",
    "                sigf =( calc_sigmaf_1d( S, f ) )\n",
    "                sprd1 = ( calc_spread1_a1b1( a1, b1 ) )\n",
    "                dm = calc_dirmf_a1b1( a1, b1)+180.\n",
    "                dm[dm>=360]=dm[dm>=360]-360.\n",
    "                \n",
    "                # model output\n",
    "                df = read_swan( pathname )\n",
    "                hsmod =( np.squeeze( df.efth.spec.hs().values ) )\n",
    "                tpmod.append( np.squeeze( df.efth.spec.tp().values ) )\n",
    "                mdirmod.append(  np.squeeze( df.efth.spec.dpm().values ) )\n",
    "                mdirsmod.append( np.squeeze( df.efth.spec.dspr().values ) )\n",
    "                \n",
    "                fs = df['freq'].values\n",
    "                dirs = df['dir'].values\n",
    "                # # flip the directions, so now directions are where waves come from\n",
    "                dirs = dirs+180\n",
    "                dirs[dirs>=360.]=dirs[dirs>=360.]-360.\n",
    "\n",
    "                directional_bin_width_deg = dirs[2]-dirs[1]\n",
    "                dirs_r = (np.pi/180.)*dirs\n",
    "                spec2d = np.squeeze( df.efth.values ) \n",
    "                \n",
    "                # This routine is from Isabel with a1 and b2 switched, and sign of a2 reversed.\n",
    "                Ss, b1s, a2s, a1s, b2s = to_Fourier( spec2d, fs, dirs_r, directional_bin_width_deg, faxis=0, daxis=1 )\n",
    "                a2s = -a2s\n",
    "\n",
    "                # Almost no energy in high frequencies, so truncate\n",
    "                igood = np.argwhere(Ss>1.e-8)\n",
    "                fs = np.squeeze(fs[igood])\n",
    "                Ss = np.squeeze(Ss[igood])\n",
    "                a1s = np.squeeze(a1s[igood])\n",
    "                a2s = np.squeeze(a2s[igood])\n",
    "                b1s = np.squeeze(b1s[igood])\n",
    "                b2s = np.squeeze(b2s[igood])\n",
    "\n",
    "                # statistics for SWAN\n",
    "                sprd1s = calc_spread1_a1b1( a1s, b1s )\n",
    "                dms = calc_dirmf_a1b1( a1s, b1s)+180\n",
    "                Hss = calc_Hs_1d( Ss, fs)\n",
    "                print('SWAN Hs', hsmod, Hss, 'Hsobs: ', hsobs)\n",
    "\n",
    "                # plot statistics\n",
    "                fig, ax = plt.subplots( 3, 1, sharex=True )\n",
    "                ax[0].plot(f, S, label='Drifter')\n",
    "                ax[0].plot(fs, Ss, label='SWAN' )\n",
    "                ax[0].set_ylabel(r'E (m$^2$/Hz)', fontsize=8)\n",
    "                ax[1].plot(f, sprd1)\n",
    "                ax[1].plot(fs, sprd1s)\n",
    "                ax[1].set_ylabel('Dir. Spread (deg)', fontsize=8)\n",
    "                ax[2].plot(f,dm)\n",
    "                ax[2].plot(fs,dms)\n",
    "                ax[2].set_ylabel('Dir. from (deg)', fontsize=8)\n",
    "                ax[2].set_xlabel('Frequency (Hz)')\n",
    "                ax[0].legend()\n",
    "                #plt.savefig('spotter31232_swan_f_vs_dir.png', dpi=200, bbox_inches='tight')\n",
    "               \n",
    "            ipt += 1           \n",
    "            \n",
    "        icount +=1"
   ]
  },
  {
   "cell_type": "code",
   "execution_count": 14,
   "id": "139c14cd-5dc6-4d59-8285-d390bccb3f1d",
   "metadata": {
    "tags": []
   },
   "outputs": [
    {
     "data": {
      "text/plain": [
       "array([1.13717043e-06, 8.52877825e-06, 3.46836982e-05, 1.10305532e-04,\n",
       "       3.54797175e-04, 1.06041143e-03, 1.86268517e-03, 1.45444098e-03,\n",
       "       3.60085018e-03, 1.02146334e-02, 6.90035019e-03, 1.11277813e-02,\n",
       "       2.31152634e-02, 3.56571161e-02, 4.01625854e-02, 2.62851260e-02,\n",
       "       1.26510211e-02, 6.73034321e-03, 3.77768018e-03, 1.93773842e-03,\n",
       "       8.64818115e-04])"
      ]
     },
     "execution_count": 14,
     "metadata": {},
     "output_type": "execute_result"
    }
   ],
   "source": [
    "Ss"
   ]
  }
 ],
 "metadata": {
  "kernelspec": {
   "display_name": "Python 3 (ipykernel)",
   "language": "python",
   "name": "python3"
  },
  "language_info": {
   "codemirror_mode": {
    "name": "ipython",
    "version": 3
   },
   "file_extension": ".py",
   "mimetype": "text/x-python",
   "name": "python",
   "nbconvert_exporter": "python",
   "pygments_lexer": "ipython3",
   "version": "3.9.16"
  }
 },
 "nbformat": 4,
 "nbformat_minor": 5
}
