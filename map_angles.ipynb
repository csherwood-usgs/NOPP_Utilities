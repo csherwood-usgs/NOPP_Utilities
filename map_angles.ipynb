{
 "cells": [
  {
   "cell_type": "code",
   "execution_count": 40,
   "id": "810ce588-390f-4c43-b082-a07f28f87b5b",
   "metadata": {
    "tags": []
   },
   "outputs": [
    {
     "name": "stdout",
     "output_type": "stream",
     "text": [
      "[[  0.   0.   0.]\n",
      " [  1.   0.   0.]\n",
      " [  2.   0.   0.]\n",
      " ...\n",
      " [ 98. 150.   0.]\n",
      " [ 99. 150.   0.]\n",
      " [100. 150.   0.]]\n"
     ]
    }
   ],
   "source": [
    "import numpy as np\n",
    "import matplotlib.pyplot as plt\n",
    "\n",
    "x = np.linspace(0, 100, num=101)\n",
    "y = np.linspace(0,150, num=151)\n",
    "X, Y = np.meshgrid(x,y)\n",
    "Z = np.zeros_like(X)\n",
    "XYZ = np.vstack((X.ravel(),Y.ravel(),Z.ravel())).T\n",
    "print(XYZ)"
   ]
  },
  {
   "cell_type": "code",
   "execution_count": 41,
   "id": "15446670-1dec-45c0-a3ce-e73ed251d341",
   "metadata": {
    "tags": []
   },
   "outputs": [],
   "source": [
    "# coordinates for two cameras\n",
    "c1 = np.array((0,0,0))\n",
    "c2 = np.array((5,10,0))"
   ]
  },
  {
   "cell_type": "code",
   "execution_count": 55,
   "id": "49e06e4d-9b1b-4a11-8ed9-7c542534ce8d",
   "metadata": {
    "tags": []
   },
   "outputs": [
    {
     "name": "stdout",
     "output_type": "stream",
     "text": [
      "(15251, 3)\n",
      "(15251, 3)\n",
      "(3,)\n"
     ]
    }
   ],
   "source": [
    "A = np.sqrt( np.sum( (XYZ-c1)**2, 0 ) )\n",
    "B = np.sqrt( np.sum( (XYZ-c2)**2, 1 ) )\n",
    "print(np.shape(XYZ))\n",
    "print(np.shape((XYZ-c1)**2))\n",
    "print(np.shape(A))"
   ]
  },
  {
   "cell_type": "code",
   "execution_count": 43,
   "id": "f6059d4e-b400-4e97-a2f8-a313b16918cc",
   "metadata": {
    "tags": []
   },
   "outputs": [
    {
     "name": "stdout",
     "output_type": "stream",
     "text": [
      "11.180339887498949\n"
     ]
    }
   ],
   "source": [
    "C = np.sqrt( np.sum((c2-c1)**2) )\n",
    "print(C)"
   ]
  },
  {
   "cell_type": "code",
   "execution_count": 44,
   "id": "4d070b36-ecc9-42fa-ba1a-9bcda3af0b34",
   "metadata": {
    "tags": []
   },
   "outputs": [
    {
     "name": "stdout",
     "output_type": "stream",
     "text": [
      "()\n"
     ]
    }
   ],
   "source": [
    "print(np.shape(A))"
   ]
  },
  {
   "cell_type": "code",
   "execution_count": 36,
   "id": "eb5e6496-cd85-4285-8134-f1d8087078de",
   "metadata": {
    "tags": []
   },
   "outputs": [
    {
     "name": "stdout",
     "output_type": "stream",
     "text": [
      "1.004479493507984\n",
      "nan\n"
     ]
    },
    {
     "name": "stderr",
     "output_type": "stream",
     "text": [
      "/tmp/ipykernel_338321/2238658704.py:4: RuntimeWarning: invalid value encountered in arccos\n",
      "  return np.degrees(np.arccos( arg ) )\n"
     ]
    }
   ],
   "source": [
    "def SSS(A, B, C):\n",
    "    arg = (A * A + B * B - C * C)/(2.0 * A * B)\n",
    "    print(arg)\n",
    "    return np.degrees(np.arccos( arg ) )\n",
    "\n",
    "ang = SSS(A, B, C)\n",
    "print(ang)"
   ]
  },
  {
   "cell_type": "code",
   "execution_count": null,
   "id": "7449fe95-bb2c-4abb-8fc2-95f6251a3ae3",
   "metadata": {},
   "outputs": [],
   "source": []
  }
 ],
 "metadata": {
  "kernelspec": {
   "display_name": "Python 3 (ipykernel)",
   "language": "python",
   "name": "python3"
  },
  "language_info": {
   "codemirror_mode": {
    "name": "ipython",
    "version": 3
   },
   "file_extension": ".py",
   "mimetype": "text/x-python",
   "name": "python",
   "nbconvert_exporter": "python",
   "pygments_lexer": "ipython3",
   "version": "3.9.16"
  }
 },
 "nbformat": 4,
 "nbformat_minor": 5
}
