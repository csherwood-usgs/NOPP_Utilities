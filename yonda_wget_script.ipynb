{
 "cells": [
  {
   "cell_type": "code",
   "execution_count": 1,
   "id": "4cfa961d-874f-40da-ba7c-1fcb4505e47a",
   "metadata": {},
   "outputs": [
    {
     "name": "stdout",
     "output_type": "stream",
     "text": [
      "wget -O /vortexfs1/home/csherwood/proj/NOPP/data/USGS_gage_height_08458995 https://nwis.waterdata.usgs.gov/usa/nwis/uv/?cb_00065=on\\&cb_00065=on\\&cb_30207=on\\&cb_72293=on\\&cb_99065=on\\&format=rdb\\&site_no=08458995\\&period=\\&begin_date=2022-09-23\\&end_date=2022-10-01\n",
      "wget -O /vortexfs1/home/csherwood/proj/NOPP/data/USGS_gage_height_08070000 https://nwis.waterdata.usgs.gov/usa/nwis/uv/?cb_00065=on\\&cb_00065=on\\&cb_30207=on\\&cb_72293=on\\&cb_99065=on\\&format=rdb\\&site_no=08070000\\&period=\\&begin_date=2022-09-23\\&end_date=2022-10-01\n",
      "wget -O /vortexfs1/home/csherwood/proj/NOPP/data/USGS_gage_height_08017095 https://nwis.waterdata.usgs.gov/usa/nwis/uv/?cb_00065=on\\&cb_00065=on\\&cb_30207=on\\&cb_72293=on\\&cb_99065=on\\&format=rdb\\&site_no=08017095\\&period=\\&begin_date=2022-09-23\\&end_date=2022-10-01\n",
      "wget -O /vortexfs1/home/csherwood/proj/NOPP/data/USGS_gage_height_02479000 https://nwis.waterdata.usgs.gov/usa/nwis/uv/?cb_00065=on\\&cb_00065=on\\&cb_30207=on\\&cb_72293=on\\&cb_99065=on\\&format=rdb\\&site_no=02479000\\&period=\\&begin_date=2022-09-23\\&end_date=2022-10-01\n",
      "wget -O /vortexfs1/home/csherwood/proj/NOPP/data/USGS_gage_height_02428400 https://nwis.waterdata.usgs.gov/usa/nwis/uv/?cb_00065=on\\&cb_00065=on\\&cb_30207=on\\&cb_72293=on\\&cb_99065=on\\&format=rdb\\&site_no=02428400\\&period=\\&begin_date=2022-09-23\\&end_date=2022-10-01\n",
      "wget -O /vortexfs1/home/csherwood/proj/NOPP/data/USGS_gage_height_02369000 https://nwis.waterdata.usgs.gov/usa/nwis/uv/?cb_00065=on\\&cb_00065=on\\&cb_30207=on\\&cb_72293=on\\&cb_99065=on\\&format=rdb\\&site_no=02369000\\&period=\\&begin_date=2022-09-23\\&end_date=2022-10-01\n",
      "wget -O /vortexfs1/home/csherwood/proj/NOPP/data/USGS_gage_height_02330000 https://nwis.waterdata.usgs.gov/usa/nwis/uv/?cb_00065=on\\&cb_00065=on\\&cb_30207=on\\&cb_72293=on\\&cb_99065=on\\&format=rdb\\&site_no=02330000\\&period=\\&begin_date=2022-09-23\\&end_date=2022-10-01\n",
      "wget -O /vortexfs1/home/csherwood/proj/NOPP/data/USGS_gage_height_02323500 https://nwis.waterdata.usgs.gov/usa/nwis/uv/?cb_00065=on\\&cb_00065=on\\&cb_30207=on\\&cb_72293=on\\&cb_99065=on\\&format=rdb\\&site_no=02323500\\&period=\\&begin_date=2022-09-23\\&end_date=2022-10-01\n",
      "wget -O /vortexfs1/home/csherwood/proj/NOPP/data/USGS_gage_height_02323592 https://nwis.waterdata.usgs.gov/usa/nwis/uv/?cb_00065=on\\&cb_00065=on\\&cb_30207=on\\&cb_72293=on\\&cb_99065=on\\&format=rdb\\&site_no=02323592\\&period=\\&begin_date=2022-09-23\\&end_date=2022-10-01\n",
      "wget -O /vortexfs1/home/csherwood/proj/NOPP/data/USGS_gage_height_02313250 https://nwis.waterdata.usgs.gov/usa/nwis/uv/?cb_00065=on\\&cb_00065=on\\&cb_30207=on\\&cb_72293=on\\&cb_99065=on\\&format=rdb\\&site_no=02313250\\&period=\\&begin_date=2022-09-23\\&end_date=2022-10-01\n",
      "wget -O /vortexfs1/home/csherwood/proj/NOPP/data/USGS_gage_height_02304500 https://nwis.waterdata.usgs.gov/usa/nwis/uv/?cb_00065=on\\&cb_00065=on\\&cb_30207=on\\&cb_72293=on\\&cb_99065=on\\&format=rdb\\&site_no=02304500\\&period=\\&begin_date=2022-09-23\\&end_date=2022-10-01\n",
      "wget -O /vortexfs1/home/csherwood/proj/NOPP/data/USGS_gage_height_02299230 https://nwis.waterdata.usgs.gov/usa/nwis/uv/?cb_00065=on\\&cb_00065=on\\&cb_30207=on\\&cb_72293=on\\&cb_99065=on\\&format=rdb\\&site_no=02299230\\&period=\\&begin_date=2022-09-23\\&end_date=2022-10-01\n",
      "wget -O /vortexfs1/home/csherwood/proj/NOPP/data/USGS_gage_height_08116650 https://nwis.waterdata.usgs.gov/usa/nwis/uv/?cb_00065=on\\&cb_00065=on\\&cb_30207=on\\&cb_72293=on\\&cb_99065=on\\&format=rdb\\&site_no=08116650\\&period=\\&begin_date=2022-09-23\\&end_date=2022-10-01\n",
      "wget -O /vortexfs1/home/csherwood/proj/NOPP/data/USGS_gage_height_08114000 https://nwis.waterdata.usgs.gov/usa/nwis/uv/?cb_00065=on\\&cb_00065=on\\&cb_30207=on\\&cb_72293=on\\&cb_99065=on\\&format=rdb\\&site_no=08114000\\&period=\\&begin_date=2022-09-23\\&end_date=2022-10-01\n",
      "wget -O /vortexfs1/home/csherwood/proj/NOPP/data/USGS_gage_height_08162500 https://nwis.waterdata.usgs.gov/usa/nwis/uv/?cb_00065=on\\&cb_00065=on\\&cb_30207=on\\&cb_72293=on\\&cb_99065=on\\&format=rdb\\&site_no=08162500\\&period=\\&begin_date=2022-09-23\\&end_date=2022-10-01\n"
     ]
    }
   ],
   "source": [
    "import os\n",
    "\n",
    "# Folder for storing downloaded data\n",
    "folder_out = '/vortexfs1/home/csherwood/proj/NOPP/data/'\n",
    "\n",
    "# period of interest. String format yyyy-mm-dd\n",
    "beg_time_str='2022-09-23';\n",
    "end_time_str='2022-10-01';\n",
    "\n",
    "# parameter codes related to gage height---\n",
    "# Note that not all listed parameters are available for a given site.---\n",
    "parameter_codes = ['00065',\n",
    "                '30207',\n",
    "                '72293',\n",
    "                '99065']\n",
    "\n",
    "sites = [ '08458995',\n",
    "'08070000',\n",
    "'08017095',\n",
    "'02479000',\n",
    "'02428400',\n",
    "'02369000',\n",
    "'02330000',\n",
    "'02323500',\n",
    "'02323592',\n",
    "'02313250',\n",
    "'02304500',\n",
    "'02299230',\n",
    "'08116650',\n",
    "'08114000',\n",
    "'08162500']\n",
    "\n",
    "for site in sites:\n",
    "    parameter_link = '?cb_' + parameter_codes[0] + '=on'\n",
    "    for code in parameter_codes:\n",
    "        parameter_link = parameter_link + '\\&cb_' + code + '=on'\n",
    "\n",
    "    fname_out = folder_out + 'USGS_gage_height_' + site\n",
    "    url = 'https://nwis.waterdata.usgs.gov/usa/nwis/uv/' + \\\n",
    "    parameter_link + '\\&format=rdb' + '\\&site_no=' + site + \\\n",
    "       '\\&period=\\&begin_date=' + beg_time_str + '\\&end_date=' + end_time_str\n",
    "    wget_cmd = 'wget -O ' + fname_out + ' ' + url\n",
    "    print( wget_cmd )\n",
    "    \n",
    "    # uncomment the next two lines to run the wget command\n",
    "    # if os.system( wget_cmd ) == 0:\n",
    "    #    print('Success')\n",
    "\n"
   ]
  },
  {
   "cell_type": "code",
   "execution_count": 2,
   "id": "b60ddcd0-3a05-4d1f-8684-c07e00c2f5fc",
   "metadata": {},
   "outputs": [
    {
     "name": "stderr",
     "output_type": "stream",
     "text": [
      "--2023-01-18 14:19:25--  https://nwis.waterdata.usgs.gov/usa/nwis/uv/?cb_00065=on&cb_00065=on&cb_30207=on&cb_72293=on&cb_99065=on&format=rdb&site_no=08162500&period=&begin_date=2022-09-23&end_date=2022-10-01\n",
      "Resolving nwis.waterdata.usgs.gov (nwis.waterdata.usgs.gov)... 137.227.241.66, 137.227.252.7\n",
      "Connecting to nwis.waterdata.usgs.gov (nwis.waterdata.usgs.gov)|137.227.241.66|:443... connected.\n",
      "HTTP request sent, awaiting response... 200 OK\n",
      "Length: unspecified [text/plain]\n",
      "Saving to: ‘/vortexfs1/home/csherwood/proj/NOPP/data/USGS_gage_height_08162500’\n",
      "\n",
      "     0K ."
     ]
    },
    {
     "name": "stdout",
     "output_type": "stream",
     "text": [
      "Success\n"
     ]
    },
    {
     "name": "stderr",
     "output_type": "stream",
     "text": [
      "                                                      5.82K=0.2s\n",
      "\n",
      "2023-01-18 14:19:26 (5.82 KB/s) - ‘/vortexfs1/home/csherwood/proj/NOPP/data/USGS_gage_height_08162500’ saved [1156]\n",
      "\n"
     ]
    }
   ],
   "source": [
    "# test last command\n",
    "if os.system( wget_cmd ) == 0:\n",
    "    print('Success')"
   ]
  }
 ],
 "metadata": {
  "kernelspec": {
   "display_name": "Python 3 (ipykernel)",
   "language": "python",
   "name": "python3"
  },
  "language_info": {
   "codemirror_mode": {
    "name": "ipython",
    "version": 3
   },
   "file_extension": ".py",
   "mimetype": "text/x-python",
   "name": "python",
   "nbconvert_exporter": "python",
   "pygments_lexer": "ipython3",
   "version": "3.9.15"
  }
 },
 "nbformat": 4,
 "nbformat_minor": 5
}
