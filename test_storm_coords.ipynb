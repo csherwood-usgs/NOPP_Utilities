{
 "cells": [
  {
   "cell_type": "code",
   "execution_count": 6,
   "id": "eb1e76c0-3720-4ca8-a192-218baf6e4ab1",
   "metadata": {
    "tags": []
   },
   "outputs": [
    {
     "name": "stdout",
     "output_type": "stream",
     "text": [
      "111.19492664455889 180.0\n",
      "46.0 -62.1\n",
      "46.00000000000002 -62.1\n"
     ]
    }
   ],
   "source": [
    "import numpy as np\n",
    "%run -i storm_coords.py\n",
    "\n",
    "lat1 = 47.\n",
    "lon1 = -62.1\n",
    "lat2 = 46.\n",
    "lon2 = -62.1\n",
    "\n",
    "d, brng = dist_bearing( lon1, lat1, lon2, lat2)\n",
    "print(d, brng)\n",
    "\n",
    "lat2d, lon2d = get_point_at_distance(lat1, lon1, d, brng )\n",
    "print(lat2, lon2)\n",
    "print(lat2d, lon2d)"
   ]
  }
 ],
 "metadata": {
  "kernelspec": {
   "display_name": "Python 3 (ipykernel)",
   "language": "python",
   "name": "python3"
  },
  "language_info": {
   "codemirror_mode": {
    "name": "ipython",
    "version": 3
   },
   "file_extension": ".py",
   "mimetype": "text/x-python",
   "name": "python",
   "nbconvert_exporter": "python",
   "pygments_lexer": "ipython3",
   "version": "3.9.16"
  }
 },
 "nbformat": 4,
 "nbformat_minor": 5
}
