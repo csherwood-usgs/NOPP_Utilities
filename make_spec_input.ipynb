{
 "cells": [
  {
   "cell_type": "code",
   "execution_count": 1,
   "id": "f6e9e394-bc0d-428a-b6d9-1f7a43f7f0d6",
   "metadata": {},
   "outputs": [],
   "source": [
    "'''\n",
    "# list of buoys with winds\n",
    "42003 25.925 85.616 3.2\n",
    "42013 27.173 82.924 3.1\n",
    "42022 27.505 83.741 3.1\n",
    "42026 25.171 83.475 3.2\n",
    "42036 28.501 84.508\n",
    "42039 28.787 86.007 4.1\n",
    "CDRF1 29.136 83.029 10\n",
    "VNF! 27.072N 82.453W 11.6\n",
    "\n",
    "# list of fixed buoys with 1d spec\n",
    "42009 27.349 84.275\n",
    "42097 25.701 83.65\n",
    "\n",
    "# list of fixed buoys with 2d spec\n",
    "42003 25.925 85.616\n",
    "42039 28.787 86.007\n",
    "42098 27.590 82.931\n",
    "42099 27.349 84.275\n",
    "'''\n",
    "pnames = ['42003', '42039', '42098', '42099']\n",
    "plats = [25.925, 28.787, 27.590, 27.349]\n",
    "plons = [-85.616, -86.007, -82.931, -84.275]"
   ]
  },
  {
   "cell_type": "code",
   "execution_count": 5,
   "id": "67ae02cf-0db0-4543-a61b-eaefa74f7482",
   "metadata": {},
   "outputs": [
    {
     "name": "stdout",
     "output_type": "stream",
     "text": [
      "POINTS  '42003' 25.9250 -85.6160\n",
      "SPECOUT '42003' SPEC2D ABS '42003.spc2d' OUTPUT 20220920.000000 1 HR\n",
      "POINTS  '42039' 28.7870 -86.0070\n",
      "SPECOUT '42039' SPEC2D ABS '42039.spc2d' OUTPUT 20220920.000000 1 HR\n",
      "POINTS  '42098' 27.5900 -82.9310\n",
      "SPECOUT '42098' SPEC2D ABS '42098.spc2d' OUTPUT 20220920.000000 1 HR\n",
      "POINTS  '42099' 27.3490 -84.2750\n",
      "SPECOUT '42099' SPEC2D ABS '42099.spc2d' OUTPUT 20220920.000000 1 HR\n"
     ]
    }
   ],
   "source": [
    "#POINTS  '42003' -85.615 25.925\n",
    "#SPECOUT '42003' SPEC2D ABS '42003.spc2d' OUTPUT 20181007.120000 1 HR\n",
    "f0 = open('ndbc_spec2d.txt', 'w')\n",
    "for pname, plon, plat in zip(pnames, plats, plons):\n",
    "    #print(pname, plon, plat)\n",
    "\n",
    "    syr = 2022\n",
    "    smo = 9\n",
    "    sda = 20\n",
    "    shr = 0\n",
    "    smn = 0\n",
    "    ss = 0\n",
    "    stinc = 1\n",
    "\n",
    "    pline = \"POINTS  '{}' {:.4f} {:.4f}\".format( pname, plon, plat )\n",
    "    print(pline)\n",
    "\n",
    "    starttime = \"{:4d}{:02d}{:02d}.{:02d}{:02d}{:02d}\".format(syr, smo, sda, shr, smn, ss)\n",
    "    sline = \"SPECOUT '{}' SPEC2D ABS '{}.spc2d' OUTPUT {} {:d} HR\".format( pname, pname, starttime, stinc )\n",
    "    print(sline)\n",
    "    f0.write(pline+'\\n')\n",
    "    f0.write(sline+'\\n')\n",
    "    \n",
    "f0.close()\n",
    "    "
   ]
  }
 ],
 "metadata": {
  "kernelspec": {
   "display_name": "Python 3 (ipykernel)",
   "language": "python",
   "name": "python3"
  },
  "language_info": {
   "codemirror_mode": {
    "name": "ipython",
    "version": 3
   },
   "file_extension": ".py",
   "mimetype": "text/x-python",
   "name": "python",
   "nbconvert_exporter": "python",
   "pygments_lexer": "ipython3",
   "version": "3.9.15"
  }
 },
 "nbformat": 4,
 "nbformat_minor": 5
}
