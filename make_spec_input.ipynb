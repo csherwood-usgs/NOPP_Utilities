{
 "cells": [
  {
   "cell_type": "code",
   "execution_count": null,
   "id": "f6e9e394-bc0d-428a-b6d9-1f7a43f7f0d6",
   "metadata": {},
   "outputs": [],
   "source": [
    "# list of buoys with winds\n",
    "42003 25.925 85.616 3.2\n",
    "42013 27.173 82.924 3.1\n",
    "42022 27.505 83.741 3.1\n",
    "42026 25.171 83.475 3.2\n",
    "42036 28.501 84.508\n",
    "42039 28.787 86.007 4.1\n",
    "CDRF1 29.136 83.029 10\n",
    "VNF! 27.072N 82.453W 11.6\n",
    "\n",
    "# list of fixed buoys with 1d spec\n",
    "42009 27.349 84.275\n",
    "42097 25.701 83.65\n",
    "\n",
    "# list of fixed buoys with 2d spec\n",
    "42003 25.925 85.616\n",
    "42039 28.787 86.007\n",
    "42098 27.590 82.931\n",
    "42099 27.349 84.275"
   ]
  },
  {
   "cell_type": "code",
   "execution_count": 10,
   "id": "0e3a030b-f6d3-4a7f-9ce1-747105b5b818",
   "metadata": {},
   "outputs": [
    {
     "name": "stdout",
     "output_type": "stream",
     "text": [
      "POINTS  '42003' -85.6150 25.9250\n",
      "SPECOUT '42003' SPEC2D ABS '42003.spc2d' OUTPUT 20181007.120000 1 HR\n"
     ]
    }
   ],
   "source": [
    "#POINTS  '42003' -85.615 25.925\n",
    "#SPECOUT '42003' SPEC2D ABS '42003.spc2d' OUTPUT 20181007.120000 1 HR\n",
    "\n",
    "pname = '42003'\n",
    "plon = -85.615\n",
    "plat = 25.925\n",
    "syr = 2018\n",
    "smo = 10\n",
    "sda = 7\n",
    "shr =12\n",
    "smn = 0\n",
    "ss = 0\n",
    "stinc = 1\n",
    "\n",
    "pline = \"POINTS  '{}' {:.4f} {:.4f}\".format( pname, plon, plat )\n",
    "print(pline)\n",
    "\n",
    "starttime = \"{:4d}{:02d}{:02d}.{:02d}{:02d}{:02d}\".format(syr, smo, sda, shr, smn, ss)\n",
    "sline = \"SPECOUT '{}' SPEC2D ABS '{}.spc2d' OUTPUT {} {:d} HR\".format( pname, pname, starttime, stinc )\n",
    "print(sline)"
   ]
  }
 ],
 "metadata": {
  "kernelspec": {
   "display_name": "Python 3 (ipykernel)",
   "language": "python",
   "name": "python3"
  },
  "language_info": {
   "codemirror_mode": {
    "name": "ipython",
    "version": 3
   },
   "file_extension": ".py",
   "mimetype": "text/x-python",
   "name": "python",
   "nbconvert_exporter": "python",
   "pygments_lexer": "ipython3",
   "version": "3.9.15"
  }
 },
 "nbformat": 4,
 "nbformat_minor": 5
}
