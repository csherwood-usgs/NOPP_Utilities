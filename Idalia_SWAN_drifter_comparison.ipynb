{
 "cells": [
  {
   "cell_type": "markdown",
   "id": "155f39c0-fa2a-4ce0-b6bc-7e0ee0830e33",
   "metadata": {},
   "source": [
    "#### Idalia SWAN-Drifter comparison\n",
    "/proj/usgs-share/Projects/Idalia2023/run1/2dspec  \n",
    "/proj/usgs-share/Projects/Idalia2023/run1/his  \n",
    "/proj/usgs-share/Projects/Idalia2023/run1/qck  "
   ]
  },
  {
   "cell_type": "code",
   "execution_count": 1,
   "id": "0cde6102-2a27-4b26-ad8d-0423a718c7a8",
   "metadata": {
    "tags": []
   },
   "outputs": [],
   "source": [
    "import os\n",
    "import pickle\n",
    "from datetime import datetime, timezone\n",
    "from scipy import stats\n",
    "import matplotlib.pyplot as plt\n",
    "import pandas as pd\n",
    "\n",
    "from pathlib import Path\n",
    "\n",
    "import matplotlib.colors\n",
    "import numpy as np\n",
    "\n",
    "import xarray as xr\n",
    "import xroms\n",
    "import matplotlib.pyplot as plt\n",
    "from wavespectra import read_ww3, read_swan, read_ndbc, read_netcdf\n",
    "from wavespectra.input.swan import read_swans\n",
    "\n",
    "DATA_DIRECTORY = '/vortexfs1/home/csherwood/proj/NOPP_Idalia/'\n",
    "DATA_FILENAME = 'hurricane_idalia_drifter_data_v2.pickle'\n",
    "\n",
    "MODEL_DIRECTORY = '/proj/usgs-share/Projects/Idalia2023/run1/2dspec/'\n"
   ]
  },
  {
   "cell_type": "markdown",
   "id": "6c0ddc1d-e64a-4d7f-8e65-f1cf26a677f3",
   "metadata": {},
   "source": [
    "#### Load drifter data\n",
    "The following adapted from the script used to prepare SWAN model output.\n",
    "`make_swan_input_idalia.ipynb`"
   ]
  },
  {
   "cell_type": "code",
   "execution_count": 2,
   "id": "77d24240-601d-4284-8968-c7233aa4f5e9",
   "metadata": {
    "tags": []
   },
   "outputs": [],
   "source": [
    "with open(os.path.join(DATA_DIRECTORY, DATA_FILENAME), 'rb') as handle:\n",
    "    drifters = pickle.load(handle)\n",
    "\n",
    "drifter_types = ['spotter', 'dwsd', 'microswift']\n",
    "pfx = ['S', 'D', 'M']\n",
    "# `drifters` is a python dictionary keyed by drifter type (spotter,\n",
    "# dwsd, or microswift)\n",
    "# `spotter` is a python dictionary of Pandas DataFrames, keyed by\n",
    "# each drifter ID. The drifter ids can then be accessed as follows:\n",
    "spotter = drifters['spotter']\n",
    "spotter_ids = list(spotter.keys())\n",
    "\n",
    "dwsd = drifters['dwsd']\n",
    "dwsd_ids = list(dwsd.keys())\n",
    "    \n",
    "mswift = drifters['microswift']\n",
    "mswift_ids = list(mswift.keys())"
   ]
  },
  {
   "cell_type": "code",
   "execution_count": 3,
   "id": "5c98d018-38ec-46a7-9066-3589fbd757e7",
   "metadata": {
    "tags": []
   },
   "outputs": [
    {
     "name": "stdout",
     "output_type": "stream",
     "text": [
      "SPOT-30025D S025D\n",
      "SPOT-30052D S052D\n",
      "SPOT-30055D S055D\n",
      "SPOT-30061D S061D\n",
      "SPOT-30066D S066D\n",
      "SPOT-30095D S095D\n",
      "SPOT-30101D S101D\n",
      "SPOT-30102D S102D\n",
      "SPOT-30103D S103D\n",
      "SPOT-30164D S164D\n",
      "300534060649690 D9690\n",
      "300534060941280 D1280\n",
      "300534064703160 D3160\n",
      "300534064703730 D3730\n",
      "300534064800060 D0060\n",
      "300534064800070 D0070\n",
      "300534064800090 D0090\n",
      "300534064800250 D0250\n",
      "300534061518160 D8160\n",
      "300534060949490 D9490\n",
      "300534061518010 D8010\n",
      "029 M0029\n",
      "037 M0037\n",
      "046 M0046\n",
      "048 M0048\n"
     ]
    }
   ],
   "source": [
    "# # Make nicknames for these drifters to conform with the max. 8 char limit in SWAN filesname\n",
    "# # after adding three characters for a counter (to differentiate the POINTS).\n",
    "snames=['S025D','S052D','S055D','S061D','S066D','S095D','S101D','S102D','S103D','S164D',\n",
    "    'D9690','D1280','D3160', 'D3730','D0060','D0070','D0090','D0250','D8160','D9490','D8010',\n",
    "    'M0029','M0037','M0046','M0048']\n",
    "\n",
    "icount=0\n",
    "for dtype in drifter_types:\n",
    "    drifter_data = drifters[dtype]\n",
    "    for id in list(drifter_data.keys()):\n",
    "        print(id, snames[icount])\n",
    "        icount += 1"
   ]
  },
  {
   "cell_type": "code",
   "execution_count": 4,
   "id": "d73a07a6-f009-4677-b760-540b6d4d8eaf",
   "metadata": {
    "tags": []
   },
   "outputs": [
    {
     "name": "stdout",
     "output_type": "stream",
     "text": [
      "399\n"
     ]
    }
   ],
   "source": [
    "# Create the SWAN output file names, read SWAN model data, and populate bulk statistics arrays\n",
    "\n",
    "dt = []\n",
    "time = []\n",
    "did = []\n",
    "lat= []\n",
    "lon= []\n",
    "hsmod = []\n",
    "hsobs = []\n",
    "tpmod = []\n",
    "tpobs = []\n",
    "mdirobs  = []\n",
    "mdirsobs = []\n",
    "mdirmod  = []\n",
    "mdirsmod = []\n",
    "\n",
    "igood=0\n",
    "icount=0\n",
    "for dtype in drifter_types :\n",
    "    drifter_data = drifters[dtype]\n",
    "    for id in drifter_data.keys():\n",
    "\n",
    "        # Some rows have times with other data but no wave info (Spotters only)\n",
    "        only_waves = drifter_data[id]['energy_density'].notnull()\n",
    "\n",
    "        ipt = 0 # index must stay below 1000 or file names will be too long\n",
    "        for index, row in drifter_data[id][only_waves].loc['2023-08-29 1200':'2023-08-30 1300'].iterrows():\n",
    "           \n",
    "            fn = \"{}{:03d}.spc2d\".format( snames[icount], ipt)\n",
    "            pathname = os.path.join(MODEL_DIRECTORY, fn)\n",
    "\n",
    "            if Path(pathname).is_file():\n",
    "                # print(pathname)\n",
    "                igood+=1\n",
    "                # drifter obs\n",
    "                did.append( snames[icount] )\n",
    "                time.append( index.strftime('%Y%m%d.%H%m') )\n",
    "                lat.append( row['latitude'] )\n",
    "                lon.append( row['longitude'] )\n",
    "                hsobs.append( row['significant_height'] )\n",
    "                tpobs.append( row['peak_period'] )\n",
    "                mdirobs.append( row['mean_direction'] )\n",
    "                mdirsobs.append( row['mean_directional_spread'] )\n",
    "                # model output\n",
    "                hsmod.append( np.squeeze( read_swan(pathname).efth.spec.hs().values ) )\n",
    "                tpmod.append( np.squeeze( read_swan(pathname).efth.spec.tp().values ) )\n",
    "                mdirmod.append(  np.squeeze( read_swan(pathname).efth.spec.dpm().values ) )\n",
    "                mdirsmod.append( np.squeeze( read_swan(pathname).efth.spec.dspr().values ) )\n",
    "\n",
    "            ipt += 1\n",
    "            \n",
    "            \n",
    "        icount +=1\n",
    "\n",
    "print(igood)\n"
   ]
  },
  {
   "cell_type": "code",
   "execution_count": 5,
   "id": "db868d06-3ef2-441f-99bc-bda53cce74e1",
   "metadata": {
    "tags": []
   },
   "outputs": [
    {
     "data": {
      "text/plain": [
       "[<matplotlib.lines.Line2D at 0x2ab0a1a64340>]"
      ]
     },
     "execution_count": 5,
     "metadata": {},
     "output_type": "execute_result"
    },
    {
     "data": {
      "image/png": "[encoded data removed]",
      "text/plain": [
       "<Figure size 640x480 with 1 Axes>"
      ]
     },
     "metadata": {},
     "output_type": "display_data"
    }
   ],
   "source": [
    "plt.plot(hsobs, hsmod, '.')"
   ]
  }
 ],
 "metadata": {
  "kernelspec": {
   "display_name": "Python 3 (ipykernel)",
   "language": "python",
   "name": "python3"
  },
  "language_info": {
   "codemirror_mode": {
    "name": "ipython",
    "version": 3
   },
   "file_extension": ".py",
   "mimetype": "text/x-python",
   "name": "python",
   "nbconvert_exporter": "python",
   "pygments_lexer": "ipython3",
   "version": "3.9.16"
  }
 },
 "nbformat": 4,
 "nbformat_minor": 5
}
