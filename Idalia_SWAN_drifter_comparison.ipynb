{
 "cells": [
  {
   "cell_type": "markdown",
   "id": "155f39c0-fa2a-4ce0-b6bc-7e0ee0830e33",
   "metadata": {},
   "source": [
    "#### Idalia SWAN-Drifter comparison\n",
    "/proj/usgs-share/Projects/Idalia2023/run1/2dspec  \n",
    "/proj/usgs-share/Projects/Idalia2023/run1/his  \n",
    "/proj/usgs-share/Projects/Idalia2023/run1/qck  "
   ]
  },
  {
   "cell_type": "code",
   "execution_count": 8,
   "id": "0cde6102-2a27-4b26-ad8d-0423a718c7a8",
   "metadata": {
    "tags": []
   },
   "outputs": [],
   "source": [
    "import os\n",
    "import pickle\n",
    "from datetime import datetime, timezone\n",
    "from scipy import stats\n",
    "import matplotlib.pyplot as plt\n",
    "import pandas as pd\n",
    "\n",
    "from pathlib import Path\n",
    "\n",
    "import matplotlib.colors\n",
    "import numpy as np\n",
    "\n",
    "import xarray as xr\n",
    "import xroms\n",
    "import matplotlib.pyplot as plt\n",
    "from wavespectra import read_ww3, read_swan, read_ndbc, read_netcdf\n",
    "from wavespectra.input.swan import read_swans\n",
    "\n",
    "%run -i wave_stats.py\n",
    "\n",
    "DATA_DIRECTORY = '/vortexfs1/home/csherwood/proj/NOPP_Idalia/'\n",
    "DATA_FILENAME = 'hurricane_idalia_drifter_data_v2.pickle'\n",
    "\n",
    "MODEL_DIRECTORY = '/proj/usgs-share/Projects/Idalia2023/run1/2dspec/'\n"
   ]
  },
  {
   "cell_type": "markdown",
   "id": "6c0ddc1d-e64a-4d7f-8e65-f1cf26a677f3",
   "metadata": {},
   "source": [
    "#### Load drifter data\n",
    "The following adapted from the script used to prepare SWAN model output.\n",
    "`make_swan_input_idalia.ipynb`"
   ]
  },
  {
   "cell_type": "code",
   "execution_count": 2,
   "id": "77d24240-601d-4284-8968-c7233aa4f5e9",
   "metadata": {
    "tags": []
   },
   "outputs": [],
   "source": [
    "with open(os.path.join(DATA_DIRECTORY, DATA_FILENAME), 'rb') as handle:\n",
    "    drifters = pickle.load(handle)\n",
    "\n",
    "drifter_types = ['spotter', 'dwsd', 'microswift']\n",
    "pfx = ['S', 'D', 'M']\n",
    "# `drifters` is a python dictionary keyed by drifter type (spotter,\n",
    "# dwsd, or microswift)\n",
    "# `spotter` is a python dictionary of Pandas DataFrames, keyed by\n",
    "# each drifter ID. The drifter ids can then be accessed as follows:\n",
    "spotter = drifters['spotter']\n",
    "spotter_ids = list(spotter.keys())\n",
    "\n",
    "dwsd = drifters['dwsd']\n",
    "dwsd_ids = list(dwsd.keys())\n",
    "    \n",
    "mswift = drifters['microswift']\n",
    "mswift_ids = list(mswift.keys())"
   ]
  },
  {
   "cell_type": "code",
   "execution_count": 3,
   "id": "5c98d018-38ec-46a7-9066-3589fbd757e7",
   "metadata": {
    "tags": []
   },
   "outputs": [
    {
     "name": "stdout",
     "output_type": "stream",
     "text": [
      "SPOT-30025D S025D\n",
      "SPOT-30052D S052D\n",
      "SPOT-30055D S055D\n",
      "SPOT-30061D S061D\n",
      "SPOT-30066D S066D\n",
      "SPOT-30095D S095D\n",
      "SPOT-30101D S101D\n",
      "SPOT-30102D S102D\n",
      "SPOT-30103D S103D\n",
      "SPOT-30164D S164D\n",
      "300534060649690 D9690\n",
      "300534060941280 D1280\n",
      "300534064703160 D3160\n",
      "300534064703730 D3730\n",
      "300534064800060 D0060\n",
      "300534064800070 D0070\n",
      "300534064800090 D0090\n",
      "300534064800250 D0250\n",
      "300534061518160 D8160\n",
      "300534060949490 D9490\n",
      "300534061518010 D8010\n",
      "029 M0029\n",
      "037 M0037\n",
      "046 M0046\n",
      "048 M0048\n"
     ]
    }
   ],
   "source": [
    "# # Make nicknames for these drifters to conform with the max. 8 char limit in SWAN filesname\n",
    "# # after adding three characters for a counter (to differentiate the POINTS).\n",
    "snames=['S025D','S052D','S055D','S061D','S066D','S095D','S101D','S102D','S103D','S164D',\n",
    "    'D9690','D1280','D3160', 'D3730','D0060','D0070','D0090','D0250','D8160','D9490','D8010',\n",
    "    'M0029','M0037','M0046','M0048']\n",
    "\n",
    "icount=0\n",
    "for dtype in drifter_types:\n",
    "    drifter_data = drifters[dtype]\n",
    "    for id in list(drifter_data.keys()):\n",
    "        print(id, snames[icount])\n",
    "        icount += 1"
   ]
  },
  {
   "cell_type": "code",
   "execution_count": 9,
   "id": "d73a07a6-f009-4677-b760-540b6d4d8eaf",
   "metadata": {
    "tags": []
   },
   "outputs": [
    {
     "name": "stdout",
     "output_type": "stream",
     "text": [
      "[[ 1]\n",
      " [ 2]\n",
      " [ 3]\n",
      " [ 4]\n",
      " [ 5]\n",
      " [ 6]\n",
      " [ 7]\n",
      " [ 8]\n",
      " [ 9]\n",
      " [10]\n",
      " [11]\n",
      " [12]\n",
      " [13]\n",
      " [14]\n",
      " [15]\n",
      " [16]\n",
      " [17]]\n"
     ]
    }
   ],
   "source": [
    "# Create the SWAN output file names, read SWAN model data, and populate bulk statistics arrays\n",
    "\n",
    "dt = []\n",
    "time = []\n",
    "did = []\n",
    "lat= []\n",
    "lon= []\n",
    "hsmod = []\n",
    "hsobs = []\n",
    "tpmod = []\n",
    "tpobs = []\n",
    "mdirobs  = []\n",
    "mdirsobs = []\n",
    "mdirmod  = []\n",
    "mdirsmod = []\n",
    "\n",
    "igood=0\n",
    "icount=0\n",
    "for dtype in drifter_types :\n",
    "    drifter_data = drifters[dtype]\n",
    "    for id in drifter_data.keys():\n",
    "\n",
    "        # Some rows have times with other data but no wave info (Spotters only)\n",
    "        only_waves = drifter_data[id]['energy_density'].notnull()\n",
    "\n",
    "        ipt = 0 # index must stay below 1000 or file names will be too long\n",
    "        for index, row in drifter_data[id][only_waves].loc['2023-08-29 1200':'2023-08-30 1300'].iterrows():\n",
    "           \n",
    "            fn = \"{}{:03d}.spc2d\".format( snames[icount], ipt)\n",
    "            pathname = os.path.join(MODEL_DIRECTORY, fn)\n",
    "\n",
    "            if Path(pathname).is_file():\n",
    "                # drifter obs\n",
    "                igood+=1\n",
    "                did.append( snames[icount] )\n",
    "                time.append( index.strftime('%Y%m%d.%H%m') )\n",
    "                lat.append( row['latitude'] )\n",
    "                lon.append( row['longitude'] )\n",
    "                hsobs.append( row['significant_height'] )\n",
    "                tpobs.append( row['peak_period'] )\n",
    "                mdirobs.append( row['mean_direction'] )\n",
    "                mdirsobs.append( row['mean_directional_spread'] )\n",
    "                f = row['frequency']\n",
    "                S = row['energy_density']\n",
    "                a1 = row['a1']\n",
    "                b1 = row['b1']\n",
    "                a2 = row['a2']\n",
    "                b2 = row['b2']\n",
    "                \n",
    "\n",
    "                # model output\n",
    "                df = read_swan( pathname )\n",
    "                hsmod.append( np.squeeze( df.efth.spec.hs().values ) )\n",
    "                tpmod.append( np.squeeze( df.efth.spec.tp().values ) )\n",
    "                mdirmod.append(  np.squeeze( df.efth.spec.dpm().values ) )\n",
    "                mdirsmod.append( np.squeeze( df.efth.spec.dspr().values ) )\n",
    "                \n",
    "                fs = df['freq'].values\n",
    "                dirs = df['dir'].values\n",
    "                # # flip the directions, so now directions are where waves come from\n",
    "                dirs = dirs+180\n",
    "                dirs[dirs>=360.]=dirs[dirs>=360.]-360.\n",
    "\n",
    "                directional_bin_width_deg = dirs[2]-dirs[1]\n",
    "                dirs_r = (np.pi/180.)*dirs\n",
    "                spec2d = np.squeeze( df.efth.values ) \n",
    "                \n",
    "                # This routine is from Isabel\n",
    "                # Ss, a1s, a2s, b1s, b2s = to_Fourier( spec2d, fs, dirs_r, directional_bin_width_deg, faxis=0, daxis=1 )\n",
    "                # Because the conventions for a1, b1 are based on cartesian directions and the SWAN 2dspec is geographic,\n",
    "                # I think we should switch a1 and b1, and change the sign of a2.\n",
    "                Ss, b1s, a2s, a1s, b2s = to_Fourier( spec2d, fs, dirs_r, directional_bin_width_deg, faxis=0, daxis=1 )\n",
    "                a2s = -a2s\n",
    "\n",
    "                # Almost no energy in high frequencies, so truncate\n",
    "                igood = np.argwhere(Ss>1.e-8)\n",
    "                fs = np.squeeze(fs[igood])\n",
    "                Ss = np.squeeze(Ss[igood])\n",
    "                a1s = np.squeeze(a1s[igood])\n",
    "                a2s = np.squeeze(a2s[igood])\n",
    "                b1s = np.squeeze(b1s[igood])\n",
    "                b2s = np.squeeze(b2s[igood]) \n",
    "               \n",
    "            ipt += 1           \n",
    "            \n",
    "        icount +=1\n",
    "\n",
    "print(igood)\n"
   ]
  },
  {
   "cell_type": "code",
   "execution_count": 23,
   "id": "31d0d84b-c3bf-4c06-81e9-6c45a0ce2fe8",
   "metadata": {
    "tags": []
   },
   "outputs": [],
   "source": [
    "# convert list of time strings to datetime\n",
    "dates = [datetime.strptime(date, '%Y%m%d.%H%M') for date in time]"
   ]
  },
  {
   "cell_type": "code",
   "execution_count": 26,
   "id": "e010d652-f44e-48c1-94b4-d8435d9e6f88",
   "metadata": {
    "tags": []
   },
   "outputs": [
    {
     "name": "stdout",
     "output_type": "stream",
     "text": [
      "List of unique ids\n",
      "['D0060' 'M0029' 'M0037' 'M0046' 'M0048' 'S025D' 'S052D' 'S055D' 'S061D'\n",
      " 'S066D' 'S095D' 'S101D' 'S102D' 'S103D' 'S164D']\n",
      "[301 302 303 304 305 306 307 308 309 310 311 312 313 314 315 316 317 318\n",
      " 319 320 321 322 323 324 325]\n"
     ]
    },
    {
     "data": {
      "text/plain": [
       "[<matplotlib.lines.Line2D at 0x2aad03ec5940>]"
      ]
     },
     "execution_count": 26,
     "metadata": {},
     "output_type": "execute_result"
    },
    {
     "data": {
      "image/png": "[encoded data removed]",
      "text/plain": [
       "<Figure size 640x480 with 1 Axes>"
      ]
     },
     "metadata": {},
     "output_type": "display_data"
    }
   ],
   "source": [
    "ulist = np.unique(did)\n",
    "print('List of unique ids')\n",
    "print(ulist)\n",
    "# get indexes of all of the entries that match ulist[5]\n",
    "id_list = np.squeeze( np.argwhere(np.array(did[:])==ulist[1]) )\n",
    "print(id_list)\n",
    "# demo doing something with that list\n",
    "plt.plot(np.array(dates)[id_list], np.array(hsobs)[id_list])"
   ]
  },
  {
   "cell_type": "code",
   "execution_count": 7,
   "id": "708877e5-a217-480e-a36f-3f65f988a554",
   "metadata": {
    "tags": []
   },
   "outputs": [
    {
     "name": "stdout",
     "output_type": "stream",
     "text": [
      "[251, 252, 253, 254, 255, 256, 257, 258, 259, 260, 261, 262, 263, 264, 265, 266, 267, 268, 269, 270, 271, 272, 273, 274, 275, 276, 277, 278, 279, 280, 281, 282, 283, 284, 285, 286, 287, 288, 289, 290, 291, 292, 293, 294, 295, 296, 297, 298, 299, 300]\n",
      "[27.5413887 27.5457707 27.550583  27.5548243 27.5586952 27.562536\n",
      " 27.5660501 27.5693931 27.5731599 27.5784241 27.5836212 27.5886117\n",
      " 27.5930171 27.5976796 27.6035901 27.6095765 27.615898  27.623085\n",
      " 27.6306317 27.6389123 27.6484972 27.6581024 27.6682747 27.6792435\n",
      " 27.6911204 27.7037341 27.7187421 27.7341495 27.7512611 27.7691444\n",
      " 27.7869697 27.8261279 27.8466226 27.8669575 27.88928   27.9103651\n",
      " 27.9325017 27.9533663 27.9730511 27.9923105 28.012021  28.0302617\n",
      " 28.0461234 28.0616298 28.0742425 28.0842286 28.0939898 28.1018217\n",
      " 28.108841  28.1138097]\n",
      "[301, 302, 303, 304, 305, 306, 307, 308, 309, 310, 311, 312, 313, 314, 315, 316, 317, 318, 319, 320, 321, 322, 323, 324, 325]\n",
      "[27.6954937  27.70291519 27.70788193 27.71247292 27.71744347 27.72646141\n",
      " 27.7344799  27.74450302 27.75763893 27.77378654 27.79218864 27.81185532\n",
      " 27.83117104 27.85152626 27.87571144 27.90119743 27.93003845 27.96183968\n",
      " 27.99471092 28.02783012 28.05911636 28.08775711 28.11284065 28.13129997\n",
      " 28.14122009]\n",
      "[326, 327, 328, 329, 330, 331, 332, 333, 334, 335, 336, 337, 338, 339, 340, 341, 342, 343, 344, 345, 346, 347, 348, 349, 350]\n",
      "[27.0176487  27.02403831 27.03090286 27.0391655  27.05041695 27.06050491\n",
      " 27.07346916 27.08834648 27.10284233 27.12133789 27.14255905 27.16705513\n",
      " 27.19559669 27.22605705 27.25819206 27.29219818 27.32614326 27.35898972\n",
      " 27.3905735  27.41829681 27.44486809 27.46713257 27.48579597 27.50126076\n",
      " 27.51246452]\n",
      "[351, 352, 353, 354, 355, 356, 357, 358, 359, 360, 361, 362, 363, 364, 365, 366, 367, 368, 369, 370, 371, 372, 373, 374, 375]\n",
      "[28.70225334 28.70670128 28.71207619 28.71826935 28.7246685  28.73067284\n",
      " 28.73629189 28.74616051 28.7563076  28.76922607 28.78445435 28.80361557\n",
      " 28.82217216 28.84377861 28.86714554 28.89095116 28.91073036 28.92411613\n",
      " 28.93796158 28.94906807 28.94627571 28.93627548 28.92388725 28.92053413\n",
      " 28.92489243]\n",
      "[376, 377, 378, 379, 380, 381, 382, 383, 384, 385, 386, 387, 388, 389, 390, 391, 392, 393, 394, 395, 396, 397, 398]\n",
      "[28.26327133 28.27110481 28.27949715 28.28741837 28.29434013 28.30083275\n",
      " 28.3093605  28.31550407 28.32210922 28.32980537 28.34033012 28.35242653\n",
      " 28.36829376 28.38765526 28.40975952 28.43209267 28.45661354 28.48535728\n",
      " 28.52016258 28.61216927 28.66184044 28.73520088 28.75652122]\n",
      "[0, 1, 2, 3, 4, 5, 6, 7, 8, 9, 10, 11, 12, 13, 14, 15, 16, 17, 18, 19, 20, 21, 22, 23, 24]\n",
      "[28.0438  28.05522 28.06592 28.07518 28.08487 28.09793 28.11043 28.12122\n",
      " 28.13058 28.14383 28.15725 28.17318 28.19238 28.2158  28.24068 28.26623\n",
      " 28.30103 28.34227 28.39057 28.44688 28.50605 28.55978 28.60072 28.63078\n",
      " 28.65152]\n",
      "[25, 26, 27, 28, 29, 30, 31, 32, 33, 34, 35, 36, 37, 38, 39, 40, 41, 42, 43, 44, 45, 46, 47, 48, 49, 50]\n",
      "[29.43423 29.43692 29.44015 29.44572 29.45012 29.4518  29.45233 29.45272\n",
      " 29.45033 29.44723 29.44485 29.4407  29.43755 29.43273 29.42603 29.42113\n",
      " 29.4128  29.40733 29.40122 29.39225 29.38023 29.36508 29.35115 29.33887\n",
      " 29.32647 29.31497]\n",
      "[51, 52, 53, 54, 55, 56, 57, 58, 59, 60, 61, 62, 63, 64, 65, 66, 67, 68, 69, 70, 71, 72, 73, 74, 75]\n",
      "[28.4243  28.4348  28.44627 28.45887 28.47218 28.48288 28.49995 28.51772\n",
      " 28.5334  28.55122 28.56983 28.58842 28.60818 28.63042 28.65152 28.67183\n",
      " 28.69113 28.71733 28.7468  28.753   28.73233 28.72337 28.72467 28.73388\n",
      " 28.74957]\n",
      "[76, 77, 78, 79, 80, 81, 82, 83, 84, 85, 86, 87, 88, 89, 90, 91, 92, 93, 94, 95, 96, 97, 98, 99, 100]\n",
      "[27.28467 27.2949  27.306   27.3166  27.33143 27.3483  27.36277 27.38205\n",
      " 27.40173 27.42008 27.44212 27.46682 27.49547 27.53305 27.57425 27.61908\n",
      " 27.6674  27.71882 27.77057 27.82062 27.86858 27.91008 27.94663 27.97383\n",
      " 27.99272]\n",
      "[101, 102, 103, 104, 105, 106, 107, 108, 109, 110, 111, 112, 113, 114, 115, 116, 117, 118, 119, 120, 121, 122, 123, 124, 125]\n",
      "[27.44073 27.45333 27.46398 27.47375 27.48387 27.50333 27.51823 27.53692\n",
      " 27.5568  27.57558 27.59788 27.62118 27.64463 27.66995 27.70102 27.73635\n",
      " 27.7769  27.8187  27.863   27.90557 27.94533 27.98292 28.01412 28.03892\n",
      " 28.05523]\n",
      "[126, 127, 128, 129, 130, 131, 132, 133, 134, 135, 136, 137, 138, 139, 140, 141, 142, 143, 144, 145, 146, 147, 148, 149, 150]\n",
      "[29.41478 29.422   29.43115 29.44032 29.4491  29.45678 29.46267 29.4672\n",
      " 29.47018 29.47422 29.4769  29.47783 29.47863 29.48077 29.48482 29.4917\n",
      " 29.49615 29.50005 29.49695 29.48822 29.47242 29.44403 29.40235 29.36473\n",
      " 29.3427 ]\n",
      "[151, 152, 153, 154, 155, 156, 157, 158, 159, 160, 161, 162, 163, 164, 165, 166, 167, 168, 169, 170, 171, 172, 173, 174, 175]\n",
      "[27.86268 27.87823 27.89353 27.90488 27.91567 27.92853 27.94242 27.95653\n",
      " 27.97077 27.98665 28.00552 28.02483 28.04645 28.08033 28.12155 28.16982\n",
      " 28.22583 28.2865  28.352   28.41768 28.47233 28.51937 28.55708 28.58772\n",
      " 28.61218]\n",
      "[176, 177, 178, 179, 180, 181, 182, 183, 184, 185, 186, 187, 188, 189, 190, 191, 192, 193, 194, 195, 196, 197, 198, 199, 200]\n",
      "[28.71078 28.71805 28.72703 28.73475 28.74117 28.74695 28.75207 28.76117\n",
      " 28.77125 28.7797  28.78848 28.80035 28.80835 28.82027 28.8357  28.85097\n",
      " 28.86343 28.87598 28.89295 28.92045 28.96245 29.01815 29.07903 29.12618\n",
      " 29.15645]\n",
      "[201, 202, 203, 204, 205, 206, 207, 208, 209, 210, 211, 212, 213, 214, 215, 216, 217, 218, 219, 220, 221, 222, 223, 224, 225]\n",
      "[28.60668 28.61698 28.62617 28.63373 28.64138 28.64762 28.65903 28.66952\n",
      " 28.68152 28.69387 28.71052 28.72413 28.7409  28.76232 28.78632 28.80692\n",
      " 28.82408 28.84645 28.87803 28.91207 28.96682 29.00233 29.02975 29.05307\n",
      " 29.07983]\n",
      "[226, 227, 228, 229, 230, 231, 232, 233, 234, 235, 236, 237, 238, 239, 240, 241, 242, 243, 244, 245, 246, 247, 248, 249, 250]\n",
      "[29.02103 29.02973 29.03983 29.04908 29.05618 29.06417 29.0729  29.0817\n",
      " 29.09488 29.10615 29.11688 29.12703 29.13885 29.14895 29.15787 29.16587\n",
      " 29.1686  29.1643  29.1511  29.12772 29.09383 29.05798 29.02788 29.00855\n",
      " 28.99298]\n"
     ]
    }
   ],
   "source": [
    "# loop through unigue ids\n",
    "for uid in ulist:\n",
    "    # find entries for that uid\n",
    "    in_id = []\n",
    "    for ia, id in enumerate( did ):\n",
    "        if id==uid:\n",
    "            in_id.append(ia)\n",
    "    \n",
    "    print(in_id)\n",
    "    print(np.array(lat)[in_id])"
   ]
  }
 ],
 "metadata": {
  "kernelspec": {
   "display_name": "Python 3 (ipykernel)",
   "language": "python",
   "name": "python3"
  },
  "language_info": {
   "codemirror_mode": {
    "name": "ipython",
    "version": 3
   },
   "file_extension": ".py",
   "mimetype": "text/x-python",
   "name": "python",
   "nbconvert_exporter": "python",
   "pygments_lexer": "ipython3",
   "version": "3.9.16"
  }
 },
 "nbformat": 4,
 "nbformat_minor": 5
}
