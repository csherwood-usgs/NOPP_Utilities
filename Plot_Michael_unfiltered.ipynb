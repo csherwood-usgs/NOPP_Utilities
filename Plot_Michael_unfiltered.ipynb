{
 "cells": [
  {
   "cell_type": "code",
   "execution_count": null,
   "id": "d6473e6a-7cbc-43ea-b30e-14e06d0c68a3",
   "metadata": {
    "tags": []
   },
   "outputs": [],
   "source": [
    "# Read unfiltered water-level data; compare with model\\\n",
    "import glob, os\n",
    "import pandas as pd\n",
    "import numpy as np\n",
    "import xarray as xr\n",
    "import xroms\n",
    "import matplotlib.pyplot as plt\n",
    "from scipy import stats\n",
    "import hvplot.xarray\n",
    "\n",
    "# These files were downloaded from https://stn.wim.usgs.gov/fev/ on 1/19/2023\n",
    "data_dir = r'/vortexfs1/home/csherwood/proj/NOPP_Michael/data/'\n",
    "hwm_file = 'Michael_FilteredHWMs.csv'\n",
    "peaks_file = 'Michael_FilteredPeaks.csv'\n",
    "\n",
    "# url='http://geoport.whoi.edu/thredds/dodsC/vortexfs1/usgs/Projects/Michael2018/michael20/michael20.ncml'\n",
    "url = 'http://geoport.whoi.edu/thredds/dodsC/vortexfs1/usgs/Projects/Michael2018/michael33/qck/michael_qck.ncml'\n",
    "run_name = 'm33'\n",
    "# url = 'http://geoport.whoi.edu/thredds/dodsC/vortexfs1/usgs/Projects/Michael2018/michael37/qck/michael_qck.ncml'\n",
    "# run_name = 'm37'\n",
    "\n",
    "# Based on datum for 8729108 Panama City, FL\n",
    "MSLtoNAVD88 = -0.11 # (m) Add this offset to convert model output (MSL) to gauge output (NAVD88)\n",
    "\n",
    "# Peak water levels are here\n",
    "dstart = '2018-10-10 12:00'\n",
    "dend = '2018-10-11 00:00'"
   ]
  },
  {
   "cell_type": "markdown",
   "id": "93a62477-d851-443d-b1ea-5077288e5920",
   "metadata": {},
   "source": [
    "### Read in the model output"
   ]
  },
  {
   "cell_type": "code",
   "execution_count": null,
   "id": "e7e1382f-fabd-4ca0-9da5-af3bde9880fc",
   "metadata": {
    "tags": []
   },
   "outputs": [],
   "source": [
    "dsm=xroms.open_netcdf(url)\n",
    "dsm"
   ]
  },
  {
   "cell_type": "code",
   "execution_count": null,
   "id": "c883836c-8b50-4cee-ae66-84c011bf93cb",
   "metadata": {
    "tags": []
   },
   "outputs": [],
   "source": [
    "# Get the maximum indices of the grid...\n",
    "max_eta = dsm['eta_rho'][-1].values\n",
    "max_xi = dsm['xi_rho'][-1].values"
   ]
  },
  {
   "cell_type": "markdown",
   "id": "2e2760a4-656c-44f7-be60-aa443159bf74",
   "metadata": {},
   "source": [
    "### Read in the observations\n",
    "#### List of the unfiltered datafiles"
   ]
  },
  {
   "cell_type": "code",
   "execution_count": null,
   "id": "676f35be-77d8-41f0-9940-e29863b2df71",
   "metadata": {
    "tags": []
   },
   "outputs": [],
   "source": [
    "file_list = glob.glob(data_dir+'*unfiltered.nc')\n",
    "print(file_list)"
   ]
  },
  {
   "cell_type": "code",
   "execution_count": null,
   "id": "0aa8158d-fdc5-430a-aabe-9f1648d1578b",
   "metadata": {
    "tags": []
   },
   "outputs": [],
   "source": [
    "# These had different filenames\n",
    "file_list2 = glob.glob(data_dir+'*csv.nc')\n",
    "print(file_list2)"
   ]
  },
  {
   "cell_type": "markdown",
   "id": "6b0dd2b2-2287-4f24-9569-77eca82d74ff",
   "metadata": {},
   "source": [
    "#### Loop through all of the files and pull out ids and lat/lon\n",
    "(Some longitudes are positive...fix that)."
   ]
  },
  {
   "cell_type": "code",
   "execution_count": null,
   "id": "eca1fb15-d935-44b0-8109-cfa848a84917",
   "metadata": {
    "tags": []
   },
   "outputs": [],
   "source": [
    "all_lats = []\n",
    "all_lons = []\n",
    "all_ids = []\n",
    "i=0\n",
    "for f in file_list+file_list2:\n",
    "    ds = xr.open_dataset(f)\n",
    "    all_ids.append( ds.attrs['stn_station_number'] )\n",
    "    all_lats.append( ds['latitude'].values )\n",
    "    # treat positive longitudes (wtf?)\n",
    "    lont = ds['longitude'].values\n",
    "    if lont > 0: lont = np.array(-lont)\n",
    "    all_lons.append( lont )"
   ]
  },
  {
   "cell_type": "markdown",
   "id": "54182109-5873-47fd-a8c1-a840ad783ceb",
   "metadata": {},
   "source": [
    "### Cheapo plot of max. water levels"
   ]
  },
  {
   "cell_type": "code",
   "execution_count": null,
   "id": "75e2a5d0-cefd-4aee-bc1e-7b2dbb5537f3",
   "metadata": {
    "tags": []
   },
   "outputs": [],
   "source": [
    "# Cheapo plot\n",
    "# find the maximum water level over the entire time\n",
    "# adding the .compute() function was key to speeding up the lat/lon lookup below\n",
    "plt_name = '/vortexfs1/home/csherwood/proj/NOPP_Michael/figs/'+run_name+'_unfiltered_map.png'\n",
    "zmax = dsm.zeta.max(dim='ocean_time').compute()\n",
    "ax = zmax.plot(x=\"lon_rho\", y=\"lat_rho\")\n",
    "plt.plot(all_lons, all_lats, 'ok')\n",
    "for i, id in enumerate(all_ids):\n",
    "    plt.text(all_lons[i]+.02,all_lats[i]+.02,id,fontsize=7)\n",
    "plt.savefig( plt_name, dpi=200, bbox_inches='tight')"
   ]
  },
  {
   "cell_type": "markdown",
   "id": "b74e4ee3-a420-45d9-b42c-a3417388a48a",
   "metadata": {},
   "source": [
    "### Plot comparison between obs. and model"
   ]
  },
  {
   "cell_type": "code",
   "execution_count": null,
   "id": "8d4b58aa-667f-42b3-8ccd-88200e53bce3",
   "metadata": {
    "tags": []
   },
   "outputs": [],
   "source": [
    "# hr = 'unfiltered_water_surface_height_above_reference_datum'\n",
    "# hf = 'water_surface_height_above_reference_datum'\n",
    "lats = []\n",
    "lons = []\n",
    "ids = []\n",
    "i=0\n",
    "for f in file_list+file_list2:\n",
    "    ds = xr.open_dataset(f)\n",
    "    id = ds.attrs['stn_station_number']\n",
    "    lat = ds['latitude'].values\n",
    "    # treat positive longitudes (wtf?)\n",
    "    lon = ds['longitude'].values\n",
    "    if lon > 0: lon = np.array(-lon)\n",
    "\n",
    "    # get indices in model domain. Values of zero or max_eta, max_xi mean location is not in model grid\n",
    "    ix, iy = dsm.Hwave.xroms.argsel2d( lon, lat )\n",
    "    in_domain = True\n",
    "    if ix==0 or ix >= max_eta or iy==0 or iy >= max_xi:\n",
    "        in_domain = False\n",
    "        \n",
    "    if in_domain:\n",
    "        ids.append( id )\n",
    "        lats.append( lat )\n",
    "        lons.append( lon )\n",
    "        print('\\n{}'.format(id))\n",
    "        print('lat, lon: {:.3f},{:.3f}'.format(lat, lon))\n",
    "        print('inst. elev. {:.3f},{:.3f}'.format( ds.attrs['sensor_orifice_elevation_at_deployment_time'], ds.attrs['sensor_orifice_elevation_at_retrieval_time']))\n",
    "        print('Sampling interval: ',ds.attrs['time_coverage_resolution'])\n",
    "        # observations\n",
    "        tobs = ds['time'].sel(time=slice(dstart,dend)).values\n",
    "        hraw = ds['unfiltered_water_surface_height_above_reference_datum'].sel(time=slice(dstart,dend)).values\n",
    "        hfil = ds['water_surface_height_above_reference_datum'].sel(time=slice(dstart,dend)).values\n",
    "        # model data\n",
    "        tmod = dsm.ocean_time.sel(ocean_time=slice(dstart,dend)).values\n",
    "        zeta = dsm.zeta.sel(ocean_time=slice(dstart,dend)).xroms.sel2d(lon, lat).values + MSLtoNAVD88\n",
    "        hwave = dsm.Hwave.sel(ocean_time=slice(dstart,dend)).xroms.sel2d(lon, lat).values\n",
    "        zhplus = zeta+0.5*hwave\n",
    "        zhminus = zeta-0.5*hwave\n",
    "        \n",
    "        imax = np.nanargmax(hfil)\n",
    "        peak_obs = hfil[imax]\n",
    "        peak_time = tobs[imax]\n",
    "        # print('hmax, time: ',peak_obs,peak_time)\n",
    "        ts1 = r'Obs. peak {:.2f} at {}'.format(peak_obs, str(peak_time)[:16])\n",
    "        \n",
    "        jmax = np.nanargmax(zeta)\n",
    "        peak_mod = zeta[jmax]\n",
    "        peak_mod_time = tmod[jmax]\n",
    "        # print('mod. max, time: ',peak_mod,peak_mod_time)\n",
    "        ts2 = r'Mod. peak {:.2f} at {}'.format(peak_mod,str(peak_mod_time)[:16])\n",
    "\n",
    "        \n",
    "        if True:\n",
    "            plt_name = '/vortexfs1/home/csherwood/proj/NOPP_Michael/figs/'+run_name+'_unfiltered_comparisons_'+id+'.png'\n",
    "            fig, ax = plt.subplots(ncols=1)\n",
    "            plt.plot(tobs, hraw, c='dimgray',label='raw obs.')\n",
    "            plt.plot(tobs, hfil, c='black',label='filtered obs.')\n",
    "            plt.plot(tmod, zeta, c='blue',label='model zeta')\n",
    "            plt.plot(tmod, zhplus, '--r', label='waves')\n",
    "            plt.plot(tmod, zhminus, '--r' )\n",
    "            plt.ylabel('Elevation (m NAVD88)')\n",
    "            plt.text(x=1.05, y=.95, s=ts1, fontsize=10, c='k',transform=ax.transAxes,\\\n",
    "             horizontalalignment='left', verticalalignment='bottom')\n",
    "            plt.text(x=1.05, y=.9, s=ts2, fontsize=10, c='b',transform=ax.transAxes,\\\n",
    "             horizontalalignment='left', verticalalignment='bottom')\n",
    "            plt.xlabel('2018')\n",
    "            plt.title(id)\n",
    "            ax.legend(loc='upper right', bbox_to_anchor=(1, 1))\n",
    "            plt.savefig(plt_name,dpi=200,bbox_inches='tight')\n",
    "    "
   ]
  },
  {
   "cell_type": "markdown",
   "id": "4ae0cc2c-035a-4301-bee3-12a36537238e",
   "metadata": {},
   "source": [
    "#### Example of how to select in time at one point"
   ]
  },
  {
   "cell_type": "code",
   "execution_count": null,
   "id": "d8271a63-30da-45a8-b5e9-c15ae6b38aaa",
   "metadata": {
    "tags": []
   },
   "outputs": [],
   "source": [
    "zeta = dsm.zeta.sel(ocean_time=slice(dstart,dend)).xroms.sel2d(lon, lat).values"
   ]
  },
  {
   "cell_type": "code",
   "execution_count": null,
   "id": "a03e0d01-92ee-4929-86e2-1df8ffd2e6c4",
   "metadata": {
    "tags": []
   },
   "outputs": [],
   "source": [
    "zeta"
   ]
  },
  {
   "cell_type": "markdown",
   "id": "fd38b1d8-4c9a-4ec6-82b5-a8cdbee51d4b",
   "metadata": {},
   "source": [
    "#### Exploring one of the unfiltered datasets"
   ]
  },
  {
   "cell_type": "code",
   "execution_count": null,
   "id": "f4404560-94c6-4b79-911c-308d1a74119b",
   "metadata": {
    "tags": []
   },
   "outputs": [],
   "source": [
    "ds = xr.open_dataset(file_list[0])\n",
    "ds"
   ]
  },
  {
   "cell_type": "code",
   "execution_count": null,
   "id": "0e6d74b9-53a8-4447-96ef-0d4d842ccbe8",
   "metadata": {
    "tags": []
   },
   "outputs": [],
   "source": [
    "ds.attrs['stn_station_number']\n",
    "ds.attrs['sensor_orifice_elevation_at_deployment_time']\n",
    "ds.attrs['sensor_orifice_elevation_at_retrieval_time']\n",
    "ds.attrs['sensor_orifice_elevation_units']\n",
    "ds.attrs['initial_land_surface_elevation']\n",
    "ds.attrs['final_land_surface_elevation']"
   ]
  },
  {
   "cell_type": "code",
   "execution_count": null,
   "id": "e8ae8384-0b32-44a2-afb7-c3c845ce0016",
   "metadata": {
    "tags": []
   },
   "outputs": [],
   "source": [
    "hr= 'unfiltered_water_surface_height_above_reference_datum'\n",
    "hf= 'water_surface_height_above_reference_datum'\n",
    "lat = ds['latitude'].values\n",
    "lon = ds['longitude'].values\n",
    "print(lat, lon)"
   ]
  },
  {
   "cell_type": "code",
   "execution_count": null,
   "id": "5c87840b-63a2-409b-ac8a-61daebfbf348",
   "metadata": {
    "tags": []
   },
   "outputs": [],
   "source": [
    "dsm.Hwave.xroms.argsel2d(lon, lat)"
   ]
  },
  {
   "cell_type": "code",
   "execution_count": null,
   "id": "0c95209f-2f5f-456e-b224-34c3f23c61e5",
   "metadata": {
    "tags": []
   },
   "outputs": [],
   "source": [
    "# what happens if the lon, lat is not in the model domain?\n",
    "dsm.Hwave.xroms.argsel2d(lon+10, -lat)"
   ]
  },
  {
   "cell_type": "code",
   "execution_count": null,
   "id": "c435e707-c87b-4bd0-9c3c-c1bc76ab619c",
   "metadata": {
    "tags": []
   },
   "outputs": [],
   "source": [
    "dstart = '2018-10-10 12:00'\n",
    "dend = '2018-10-11 00:00'\n",
    "\n",
    "zw = dsm['zeta'].sel(ocean_time=slice(dstart,dend)).xroms.sel2d(lon, lat).values + dsm['Hwave'].sel(ocean_time=slice(dstart,dend)).xroms.sel2d(lon, lat).values\n",
    "t = dsm['ocean_time'].sel(ocean_time=slice(dstart,dend))\n",
    "\n",
    "fig, ax = plt.subplots(ncols=1)\n",
    "ds[hr].sel(time=slice(dstart,dend)).plot(c='dimgray',label='raw obs.')\n",
    "ds[hf].sel(time=slice(dstart,dend)).plot(c='black',label='filtered obs.')\n",
    "dsm.zeta.sel(ocean_time=slice(dstart,dend)).xroms.sel2d(lon, lat).plot(c='blue',label='model zeta')\n",
    "plt.plot(t,zw,'--r',label='model zeta+Hwave')\n",
    "fig.legend()\n"
   ]
  },
  {
   "cell_type": "code",
   "execution_count": null,
   "id": "ac625cde-4f2b-4cc7-92b8-ed941236dd0a",
   "metadata": {
    "tags": []
   },
   "outputs": [],
   "source": [
    "# plotting with hvplot\n",
    "a=ds[hraw].hvplot(x='time',c='dimgray',label='raw obs.')\n",
    "b=ds[hf].hvplot(x='time',c='black',label='filtered obs.')\n",
    "c = dsm.zeta.sel(ocean_time=slice(dstart,dend)).xroms.sel2d(lon, lat).hvplot(x='ocean_time', c='blue',label='model')\n",
    "\n",
    "a*b*c"
   ]
  }
 ],
 "metadata": {
  "kernelspec": {
   "display_name": "Python 3 (ipykernel)",
   "language": "python",
   "name": "python3"
  },
  "language_info": {
   "codemirror_mode": {
    "name": "ipython",
    "version": 3
   },
   "file_extension": ".py",
   "mimetype": "text/x-python",
   "name": "python",
   "nbconvert_exporter": "python",
   "pygments_lexer": "ipython3",
   "version": "3.9.16"
  }
 },
 "nbformat": 4,
 "nbformat_minor": 5
}
